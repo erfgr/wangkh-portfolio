{
 "cells": [
  {
   "cell_type": "markdown",
   "metadata": {
    "colab_type": "text",
    "id": "Z_LTBtfMBvW_"
   },
   "source": [
    "# Homework 5: Convolutional neural network (30 points)\n"
   ]
  },
  {
   "cell_type": "markdown",
   "metadata": {},
   "source": [
    "In this part, you need to implement and train a convolutional neural network on the CIFAR-10 dataset with PyTorch.\n",
    "### What is PyTorch?\n",
    "\n",
    "PyTorch is a system for executing dynamic computational graphs over Tensor objects that behave similarly as numpy ndarray. It comes with a powerful automatic differentiation engine that removes the need for manual back-propagation. \n",
    "\n",
    "### Why?\n",
    "\n",
    "* Our code will now run on GPUs! Much faster training. When using a framework like PyTorch or TensorFlow you can harness the power of the GPU for your own custom neural network architectures without having to write CUDA code directly (which is beyond the scope of this class).\n",
    "* We want you to be ready to use one of these frameworks for your project so you can experiment more efficiently than if you were writing every feature you want to use by hand. \n",
    "* We want you to stand on the shoulders of giants! TensorFlow and PyTorch are both excellent frameworks that will make your lives a lot easier, and now that you understand their guts, you are free to use them :) \n",
    "* We want you to be exposed to the sort of deep learning code you might run into in academia or industry.\n",
    "## How can I learn PyTorch?\n",
    "\n",
    "Justin Johnson has made an excellent [tutorial](https://github.com/jcjohnson/pytorch-examples) for PyTorch. \n",
    "\n",
    "You can also find the detailed [API doc](http://pytorch.org/docs/stable/index.html) here. If you have other questions that are not addressed by the API docs, the [PyTorch forum](https://discuss.pytorch.org/) is a much better place to ask than StackOverflow."
   ]
  },
  {
   "cell_type": "markdown",
   "metadata": {
    "colab_type": "text",
    "id": "T33dD1e8tii2"
   },
   "source": [
    "Install PyTorch and Skorch."
   ]
  },
  {
   "cell_type": "code",
   "execution_count": 1,
   "metadata": {
    "colab": {
     "base_uri": "https://localhost:8080/",
     "height": 35
    },
    "colab_type": "code",
    "id": "pJB3VQYDCUmh",
    "outputId": "43ab27ff-b2fb-4f7b-f517-f2b029b18ba2"
   },
   "outputs": [],
   "source": [
    "! pip install -q torch skorch torchvision torchtext"
   ]
  },
  {
   "cell_type": "code",
   "execution_count": 6,
   "metadata": {
    "colab": {
     "base_uri": "https://localhost:8080/",
     "height": 72
    },
    "colab_type": "code",
    "id": "3l_Dl6qxCXmv",
    "outputId": "c0bbb1f4-081a-464e-bf46-a34c2767e83a"
   },
   "outputs": [],
   "source": [
    "import torch\n",
    "import torch.nn as nn\n",
    "import torch.nn.functional as F\n",
    "import torch.optim as optim\n",
    "import torchvision\n",
    "import torchvision.transforms as transforms\n",
    "import skorch\n",
    "import sklearn\n",
    "import numpy as np\n",
    "import matplotlib.pyplot as plt\n",
    "import pandas as pd\n"
   ]
  },
  {
   "attachments": {},
   "cell_type": "markdown",
   "metadata": {
    "colab_type": "text",
    "id": "uevQtU7NtZ_-"
   },
   "source": [
    "## 0. Tensor Operations (5 points)\n",
    "\n",
    "Tensor operations are important in deep learning models. In this part, you are required to get famaliar to some common tensor operations in PyTorch."
   ]
  },
  {
   "cell_type": "markdown",
   "metadata": {
    "colab_type": "text",
    "id": "5DeQOItkeQCx"
   },
   "source": [
    "### 1) Tensor squeezing, unsqueezing and viewing"
   ]
  },
  {
   "cell_type": "markdown",
   "metadata": {
    "colab_type": "text",
    "id": "pAOmBE5ODwpP"
   },
   "source": [
    "Tensor squeezing, unsqueezing and viewing are important methods to change the dimension of a Tensor, and the corresponding functions are [torch.squeeze](https://pytorch.org/docs/stable/torch.html#torch.squeeze), [torch.unsqueeze](https://pytorch.org/docs/stable/torch.html#torch.unsqueeze) and [torch.Tensor.view](https://pytorch.org/docs/stable/tensors.html#torch.Tensor.view). Please read the documents of the functions, and finish the following practice."
   ]
  },
  {
   "cell_type": "code",
   "execution_count": 3,
   "metadata": {
    "colab": {
     "base_uri": "https://localhost:8080/",
     "height": 70
    },
    "colab_type": "code",
    "id": "hVrM80YxFSjb",
    "outputId": "933f2576-b413-4516-a3f8-5fa4fbe60b38"
   },
   "outputs": [
    {
     "name": "stdout",
     "output_type": "stream",
     "text": [
      "torch.Size([3, 1, 2, 1])\n",
      "torch.Size([3, 2])\n",
      "torch.Size([6])\n"
     ]
    }
   ],
   "source": [
    "# x is a tensor with size being (3, 2)\n",
    "x = torch.Tensor([[1, 2], \n",
    "                  [3, 4], \n",
    "                  [5, 6]])\n",
    "x.shape\n",
    "# Add two new dimensions to x by using the function torch.unsqueeze, so that the size of x becomes (3, 1, 2, 1).\n",
    "x = torch.unsqueeze(torch.unsqueeze(x,1),-1)\n",
    "print(x.shape)\n",
    "# Remove the two dimensions justed added by using the function torch.squeeze, and change the size of x back to (3, 2).\n",
    "x = torch.squeeze(x)\n",
    "print(x.shape)\n",
    "# x is now a two-dimensional tensor, or in other words a matrix. Now use the function torch.Tensor.view and change x to a one-dimensional vector with size being (6).\n",
    "x = x.view(6)\n",
    "print(x.shape)\n"
   ]
  },
  {
   "cell_type": "markdown",
   "metadata": {
    "colab_type": "text",
    "id": "liuR-U0wea0n"
   },
   "source": [
    "### 2) Tensor concatenation and stack"
   ]
  },
  {
   "cell_type": "markdown",
   "metadata": {
    "colab_type": "text",
    "id": "pkbnt6v8Bo-j"
   },
   "source": [
    "Tensor concatenation and stack are operations to combine small tensors into big tensors. The corresponding functions are [torch.cat](https://pytorch.org/docs/stable/torch.html#torch.cat) and [torch.stack](https://pytorch.org/docs/stable/torch.html#torch.stack). Please read the documents of the functions, and finish the following practice."
   ]
  },
  {
   "cell_type": "code",
   "execution_count": 4,
   "metadata": {
    "colab": {
     "base_uri": "https://localhost:8080/",
     "height": 70
    },
    "colab_type": "code",
    "id": "b9KqXu3Stfjh",
    "outputId": "97f17754-1e49-4a77-df8a-46a1200ea170"
   },
   "outputs": [
    {
     "name": "stdout",
     "output_type": "stream",
     "text": [
      "tensor([[1., 2.],\n",
      "        [3., 4.],\n",
      "        [5., 6.]])\n",
      "tensor([[-1., -2.],\n",
      "        [-3., -4.],\n",
      "        [-5., -6.]])\n"
     ]
    }
   ],
   "source": [
    "# x is a tensor with size being (3, 2)\n",
    "x = torch.Tensor([[1, 2], [3, 4], [5, 6]])\n",
    "\n",
    "# y is a tensor with size being (3, 2)\n",
    "y = torch.Tensor([[-1, -2], [-3, -4], [-5, -6]])\n",
    "\n",
    "# Our goal is to generate a tensor z with size as (2, 3, 2), and z[0,:,:] = x, z[1,:,:] = y.\n",
    "\n",
    "# Use torch.stack to generate such a z\n",
    "z = torch.stack((x,y))\n",
    "print(z[0,:,:])\n",
    "# Use torch.cat and torch.unsqueeze to generate such a z\n",
    "z = torch.cat((torch.unsqueeze(x,0),torch.unsqueeze(y,0)))\n",
    "print(z[1,:,:])"
   ]
  },
  {
   "cell_type": "markdown",
   "metadata": {
    "colab_type": "text",
    "id": "WGw4eEo-eeHm"
   },
   "source": [
    "### 3) Tensor expansion"
   ]
  },
  {
   "cell_type": "markdown",
   "metadata": {
    "colab_type": "text",
    "id": "KAII9eJgJFK2"
   },
   "source": [
    "Tensor expansion is to expand a tensor into a larger tensor along singleton dimensions. The corresponding functions are [torch.Tensor.expand](https://pytorch.org/docs/stable/tensors.html#torch.Tensor.expand) and [torch.Tensor.expand_as](https://pytorch.org/docs/stable/tensors.html#torch.Tensor.expand_as). Please read the documents of the functions, and finish the following practice. "
   ]
  },
  {
   "cell_type": "code",
   "execution_count": 5,
   "metadata": {
    "colab": {
     "base_uri": "https://localhost:8080/",
     "height": 69
    },
    "colab_type": "code",
    "id": "sQbFte-AJzVL",
    "outputId": "0505d6ed-fcff-40b1-d373-2510a4deb373"
   },
   "outputs": [
    {
     "name": "stdout",
     "output_type": "stream",
     "text": [
      "torch.Size([1, 3])\n",
      "torch.Size([2, 3])\n"
     ]
    }
   ],
   "source": [
    "# x is a tensor with size being (3)\n",
    "x = torch.Tensor([1, 2, 3])\n",
    "\n",
    "# Our goal is to generate a tensor z with size (2, 3), so that z[0,:,:] = x, z[1,:,:] = x.\n",
    "\n",
    "# [TO DO]\n",
    "# Change the size of x into (1, 3) by using torch.unsqueeze.\n",
    "x = torch.unsqueeze(x,0)\n",
    "print(x.shape)\n",
    "\n",
    "# [TO DO]\n",
    "# Then expand the new tensor to the target tensor by using torch.Tensor.expand.\n",
    "z = x.expand(2,3)\n",
    "print(z.shape)"
   ]
  },
  {
   "cell_type": "markdown",
   "metadata": {
    "colab_type": "text",
    "id": "0rFL_Shoef3m"
   },
   "source": [
    "### 4) Tensor reduction in a given dimension"
   ]
  },
  {
   "cell_type": "markdown",
   "metadata": {
    "colab_type": "text",
    "id": "fmEoJVw0LL9H"
   },
   "source": [
    "In deep learning, we often need to compute the mean/sum/max/min value in a given dimension of a tensor. Please read the document of [torch.mean](https://pytorch.org/docs/stable/torch.html#torch.mean), [torch.sum](https://pytorch.org/docs/stable/torch.html#torch.sum), [torch.max](https://pytorch.org/docs/stable/torch.html#torch.max), [torch.min](https://pytorch.org/docs/stable/torch.html#torch.min), [torch.topk](https://pytorch.org/docs/stable/torch.html#torch.topk), and finish the following practice."
   ]
  },
  {
   "cell_type": "code",
   "execution_count": 6,
   "metadata": {
    "colab": {
     "base_uri": "https://localhost:8080/",
     "height": 87
    },
    "colab_type": "code",
    "id": "A7dlZwe4MNxo",
    "outputId": "1148ec88-6f73-4cdc-8471-40d431ca429b"
   },
   "outputs": [
    {
     "name": "stdout",
     "output_type": "stream",
     "text": [
      "tensor(0.1522)\n",
      "torch.Size([10])\n",
      "torch.Size([10])\n",
      "torch.Size([10])\n",
      "torch.Size([10, 5])\n"
     ]
    }
   ],
   "source": [
    "# x is a random tensor with size being (10, 50)\n",
    "x = torch.randn(10, 50)\n",
    "\n",
    "# Compute the mean value for each row of x.\n",
    "# You need to generate a tensor x_mean of size (10), and x_mean[k, :] is the mean value of the k-th row of x.\n",
    "x_mean = torch.mean(x,1)\n",
    "print(x_mean[3, ])\n",
    "\n",
    "# Compute the sum value for each row of x.\n",
    "# You need to generate a tensor x_sum of size (10).\n",
    "x_sum = torch.sum(x,1)\n",
    "print(x_sum.shape)\n",
    "\n",
    "# Compute the max value for each row of x.\n",
    "# You need to generate a tensor x_max of size (10).\n",
    "x_max, s = torch.max(x,1)\n",
    "print(x_max.shape)\n",
    "\n",
    "# Compute the min value for each row of x.\n",
    "# You need to generate a tensor x_min of size (10).\n",
    "x_min, s = torch.min(x,1)\n",
    "print(x_min.shape)\n",
    "\n",
    "# Compute the top-5 values for each row of x.\n",
    "# You need to generate a tensor x_mean of size (10, 5), and x_top[k, :] is the top-5 values of each row in x.\n",
    "x_mean_xtop, s = torch.topk(x,5,1)\n",
    "print((x_mean_xtop.shape))\n"
   ]
  },
  {
   "cell_type": "markdown",
   "metadata": {
    "colab_type": "text",
    "id": "I49qjiqHB9oa"
   },
   "source": [
    "## Convolutional Neural Networks\n",
    "\n"
   ]
  },
  {
   "cell_type": "markdown",
   "metadata": {
    "colab_type": "text",
    "id": "JePbG5pSt1xv"
   },
   "source": [
    "Implement a convolutional neural network for image classification on CIFAR-10 dataset.\n",
    "\n",
    "CIFAR-10 is an image dataset of 10 categories. Each image has a size of 32x32 pixels. The following code will download the dataset, and split it into `train` and `test`. For this question, we use the default validation split generated by Skorch."
   ]
  },
  {
   "cell_type": "code",
   "execution_count": 3,
   "metadata": {
    "colab": {
     "base_uri": "https://localhost:8080/",
     "height": 120,
     "referenced_widgets": [
      "310efd92386a4757a767d5204b08a865",
      "8346dadd8dcd437f9d0c73a8e86d4503",
      "87cad6ba7ef84d03a7f8c0cb37ec01ec",
      "b712d5d1ba464a378c00dbb2aec6dd8c",
      "0f3b4a3b037d47cb8ba1196d7dbd3b98",
      "3f3ef2c146bf4dd38424170b3090b055",
      "adbb9a799ba44a91b927b44d0c27e6d1",
      "44a89539615b4132a01ca7f5223ca281"
     ]
    },
    "colab_type": "code",
    "id": "sQxOUQ29BuMB",
    "outputId": "fe539e24-4cd1-42ef-8bda-9ec1a0accd54"
   },
   "outputs": [
    {
     "name": "stdout",
     "output_type": "stream",
     "text": [
      "Files already downloaded and verified\n",
      "Files already downloaded and verified\n"
     ]
    }
   ],
   "source": [
    "train = torchvision.datasets.CIFAR10(\"./data\", train=True, download=True)\n",
    "test = torchvision.datasets.CIFAR10(\"./data\", train=False, download=True)\n",
    "train.targets = torch.LongTensor(train.targets)"
   ]
  },
  {
   "cell_type": "markdown",
   "metadata": {
    "colab_type": "text",
    "id": "ieBpiwMwi6wD"
   },
   "source": [
    "The following code visualizes some samples in the dataset. You may use it to debug your model if necessary."
   ]
  },
  {
   "cell_type": "code",
   "execution_count": 7,
   "metadata": {
    "colab": {
     "base_uri": "https://localhost:8080/",
     "height": 108
    },
    "colab_type": "code",
    "id": "cU5HrxybupyJ",
    "outputId": "c9568768-b950-40b7-c16a-9d21a0969075"
   },
   "outputs": [
    {
     "data": {
      "image/png": "[encoded data removed]",
      "text/plain": [
       "<Figure size 640x480 with 5 Axes>"
      ]
     },
     "metadata": {},
     "output_type": "display_data"
    }
   ],
   "source": [
    "def plot(data, labels=None, num_sample=5):\n",
    "  n = min(len(data), num_sample)\n",
    "  for i in range(n):\n",
    "    plt.subplot(1, n, i+1)\n",
    "    plt.imshow(data[i], cmap=\"gray\")\n",
    "    plt.xticks([])\n",
    "    plt.yticks([])\n",
    "    if labels is not None:\n",
    "      plt.title(labels[i])\n",
    "\n",
    "train.labels = [train.classes[target] for target in train.targets]\n",
    "plot(train.data, train.labels)"
   ]
  },
  {
   "cell_type": "markdown",
   "metadata": {
    "colab_type": "text",
    "id": "JwzKmdcuCv1D"
   },
   "source": [
    "### 1) Basic CNN implementation\n"
   ]
  },
  {
   "cell_type": "markdown",
   "metadata": {
    "colab_type": "text",
    "id": "TbEYo5WgjTtm"
   },
   "source": [
    "Consider a basic CNN model\n",
    "\n",
    "- It has 3 convolutional layers, followed by a linear layer.\n",
    "- Each convolutional layer has a kernel size of 3, a padding of 1.\n",
    "- ReLU activation is applied on every hidden layer.\n",
    "\n",
    "Please implement this model in the following section. The hyperparameters is then be tuned and you need to fill the results in the table."
   ]
  },
  {
   "cell_type": "markdown",
   "metadata": {
    "colab_type": "text",
    "id": "OZKyE2GUfL-Z"
   },
   "source": [
    "#### a) Implement convolutional layers (10 Points)"
   ]
  },
  {
   "cell_type": "markdown",
   "metadata": {
    "colab_type": "text",
    "id": "4P_aYytExtq9"
   },
   "source": [
    "Implement the initialization function and the forward function of the CNN."
   ]
  },
  {
   "cell_type": "code",
   "execution_count": 8,
   "metadata": {
    "colab": {},
    "colab_type": "code",
    "id": "sDmCKUD1LBFk"
   },
   "outputs": [],
   "source": [
    "class CNN(nn.Module):\n",
    "  def __init__(self, channels):\n",
    "    super(CNN, self).__init__()\n",
    "    # implement parameter definitions here\n",
    "    # *****START OF YOUR CODE (DO NOT DELETE/MODIFY THIS LINE)*****\n",
    "    self.conv1 = nn.Conv2d(3,channels,3,padding=1)\n",
    "    self.conv2 = nn.Conv2d(channels,channels,3,padding=1)\n",
    "    self.conv3 = nn.Conv2d(channels,channels,3,padding=1)\n",
    "    self.fcl = nn.Linear(channels*32*32,10)\n",
    "    # *****END OF YOUR CODE (DO NOT DELETE/MODIFY THIS LINE)*****\n",
    "  def forward(self, images):\n",
    "    # implement the forward function here\n",
    "    # *****START OF YOUR CODE (DO NOT DELETE/MODIFY THIS LINE)*****\n",
    "    images = F.relu(self.conv1(images))\n",
    "    images = F.relu(self.conv2(images))\n",
    "    images = F.relu(self.conv3(images))\n",
    "    images = images.view(images.size(0),-1)\n",
    "    images = self.fcl(images)\n",
    "    # *****END OF YOUR CODE (DO NOT DELETE/MODIFY THIS LINE)*****\n",
    "    return images"
   ]
  },
  {
   "cell_type": "markdown",
   "metadata": {
    "colab_type": "text",
    "id": "E_YaASPpgRiL"
   },
   "source": [
    "#### b) Tune hyperparameters"
   ]
  },
  {
   "cell_type": "markdown",
   "metadata": {
    "colab_type": "text",
    "id": "ygMcDdpy6XWP"
   },
   "source": [
    "Train the CNN model on CIFAR-10 dataset. We can tune the number of channels, optimizer, learning rate and the number of epochs for best validation accuracy."
   ]
  },
  {
   "cell_type": "code",
   "execution_count": 10,
   "metadata": {
    "colab": {
     "base_uri": "https://localhost:8080/",
     "height": 1000
    },
    "colab_type": "code",
    "id": "JUaguxFA5xOp",
    "outputId": "e74d78b8-10c0-414a-93d4-128f8ca4b2fd"
   },
   "outputs": [
    {
     "name": "stdout",
     "output_type": "stream",
     "text": [
      "The channel was 16, the learning rate was 1e-05 and the optimizer was <class 'torch.optim.sgd.SGD'>\n",
      "  epoch    train_loss    valid_acc    valid_loss      dur\n",
      "-------  ------------  -----------  ------------  -------\n",
      "      1        \u001b[36m2.3031\u001b[0m       \u001b[32m0.0922\u001b[0m        \u001b[35m2.3030\u001b[0m  33.2964\n",
      "      2        \u001b[36m2.3030\u001b[0m       \u001b[32m0.0923\u001b[0m        \u001b[35m2.3030\u001b[0m  32.4063\n",
      "      3        \u001b[36m2.3029\u001b[0m       \u001b[32m0.0928\u001b[0m        \u001b[35m2.3029\u001b[0m  31.2097\n",
      "      4        \u001b[36m2.3029\u001b[0m       \u001b[32m0.0930\u001b[0m        \u001b[35m2.3028\u001b[0m  32.2927\n",
      "      5        \u001b[36m2.3028\u001b[0m       \u001b[32m0.0932\u001b[0m        \u001b[35m2.3028\u001b[0m  31.1628\n",
      "      6        \u001b[36m2.3027\u001b[0m       \u001b[32m0.0935\u001b[0m        \u001b[35m2.3027\u001b[0m  31.4149\n",
      "      7        \u001b[36m2.3027\u001b[0m       \u001b[32m0.0940\u001b[0m        \u001b[35m2.3026\u001b[0m  30.7325\n",
      "      8        \u001b[36m2.3026\u001b[0m       0.0938        \u001b[35m2.3026\u001b[0m  30.8253\n",
      "      9        \u001b[36m2.3025\u001b[0m       \u001b[32m0.0942\u001b[0m        \u001b[35m2.3025\u001b[0m  32.8183\n",
      "     10        \u001b[36m2.3025\u001b[0m       0.0941        \u001b[35m2.3024\u001b[0m  32.3721\n",
      "     11        \u001b[36m2.3024\u001b[0m       \u001b[32m0.0945\u001b[0m        \u001b[35m2.3024\u001b[0m  31.9081\n",
      "     12        \u001b[36m2.3024\u001b[0m       \u001b[32m0.0952\u001b[0m        \u001b[35m2.3023\u001b[0m  31.5482\n",
      "     13        \u001b[36m2.3023\u001b[0m       \u001b[32m0.0959\u001b[0m        \u001b[35m2.3022\u001b[0m  31.3438\n",
      "     14        \u001b[36m2.3022\u001b[0m       \u001b[32m0.0967\u001b[0m        \u001b[35m2.3022\u001b[0m  32.1400\n",
      "     15        \u001b[36m2.3022\u001b[0m       \u001b[32m0.0982\u001b[0m        \u001b[35m2.3021\u001b[0m  31.0039\n",
      "     16        \u001b[36m2.3021\u001b[0m       \u001b[32m0.0985\u001b[0m        \u001b[35m2.3020\u001b[0m  31.0092\n",
      "     17        \u001b[36m2.3020\u001b[0m       \u001b[32m0.0996\u001b[0m        \u001b[35m2.3020\u001b[0m  32.0398\n",
      "     18        \u001b[36m2.3020\u001b[0m       \u001b[32m0.1011\u001b[0m        \u001b[35m2.3019\u001b[0m  32.9767\n",
      "     19        \u001b[36m2.3019\u001b[0m       \u001b[32m0.1020\u001b[0m        \u001b[35m2.3018\u001b[0m  31.9393\n",
      "     20        \u001b[36m2.3018\u001b[0m       \u001b[32m0.1039\u001b[0m        \u001b[35m2.3018\u001b[0m  31.2194\n",
      "     21        \u001b[36m2.3018\u001b[0m       \u001b[32m0.1051\u001b[0m        \u001b[35m2.3017\u001b[0m  32.5872\n",
      "     22        \u001b[36m2.3017\u001b[0m       \u001b[32m0.1059\u001b[0m        \u001b[35m2.3016\u001b[0m  31.4957\n",
      "     23        \u001b[36m2.3016\u001b[0m       \u001b[32m0.1072\u001b[0m        \u001b[35m2.3016\u001b[0m  31.6174\n",
      "     24        \u001b[36m2.3016\u001b[0m       \u001b[32m0.1090\u001b[0m        \u001b[35m2.3015\u001b[0m  32.3750\n",
      "     25        \u001b[36m2.3015\u001b[0m       \u001b[32m0.1118\u001b[0m        \u001b[35m2.3014\u001b[0m  32.3782\n",
      "The channel was 32, the learning rate was 1e-05 and the optimizer was <class 'torch.optim.sgd.SGD'>\n",
      "  epoch    train_loss    valid_acc    valid_loss      dur\n",
      "-------  ------------  -----------  ------------  -------\n",
      "      1        \u001b[36m2.3026\u001b[0m       \u001b[32m0.1118\u001b[0m        \u001b[35m2.3025\u001b[0m  75.5154\n",
      "      2        \u001b[36m2.3023\u001b[0m       \u001b[32m0.1192\u001b[0m        \u001b[35m2.3022\u001b[0m  73.5765\n",
      "      3        \u001b[36m2.3021\u001b[0m       \u001b[32m0.1307\u001b[0m        \u001b[35m2.3019\u001b[0m  73.9044\n",
      "      4        \u001b[36m2.3018\u001b[0m       \u001b[32m0.1455\u001b[0m        \u001b[35m2.3016\u001b[0m  74.4299\n",
      "      5        \u001b[36m2.3015\u001b[0m       \u001b[32m0.1546\u001b[0m        \u001b[35m2.3014\u001b[0m  74.1025\n",
      "      6        \u001b[36m2.3013\u001b[0m       0.1537        \u001b[35m2.3011\u001b[0m  74.7158\n",
      "      7        \u001b[36m2.3010\u001b[0m       0.1471        \u001b[35m2.3008\u001b[0m  75.1688\n",
      "      8        \u001b[36m2.3008\u001b[0m       0.1398        \u001b[35m2.3006\u001b[0m  74.0391\n",
      "      9        \u001b[36m2.3005\u001b[0m       0.1341        \u001b[35m2.3004\u001b[0m  74.8319\n",
      "     10        \u001b[36m2.3003\u001b[0m       0.1254        \u001b[35m2.3001\u001b[0m  78.7981\n",
      "     11        \u001b[36m2.3001\u001b[0m       0.1191        \u001b[35m2.2999\u001b[0m  74.6853\n",
      "     12        \u001b[36m2.2998\u001b[0m       0.1144        \u001b[35m2.2996\u001b[0m  75.1045\n",
      "     13        \u001b[36m2.2996\u001b[0m       0.1083        \u001b[35m2.2994\u001b[0m  75.2092\n",
      "     14        \u001b[36m2.2994\u001b[0m       0.1044        \u001b[35m2.2992\u001b[0m  75.3185\n",
      "     15        \u001b[36m2.2992\u001b[0m       0.1027        \u001b[35m2.2990\u001b[0m  73.9641\n",
      "     16        \u001b[36m2.2990\u001b[0m       0.1009        \u001b[35m2.2988\u001b[0m  75.9277\n",
      "     17        \u001b[36m2.2988\u001b[0m       0.0994        \u001b[35m2.2985\u001b[0m  74.4793\n",
      "     18        \u001b[36m2.2985\u001b[0m       0.0991        \u001b[35m2.2983\u001b[0m  81.8071\n",
      "     19        \u001b[36m2.2983\u001b[0m       0.0994        \u001b[35m2.2981\u001b[0m  74.3654\n",
      "     20        \u001b[36m2.2981\u001b[0m       0.1005        \u001b[35m2.2979\u001b[0m  75.5451\n",
      "     21        \u001b[36m2.2979\u001b[0m       0.1000        \u001b[35m2.2977\u001b[0m  74.9100\n",
      "     22        \u001b[36m2.2977\u001b[0m       0.1022        \u001b[35m2.2975\u001b[0m  75.4648\n",
      "     23        \u001b[36m2.2975\u001b[0m       0.1026        \u001b[35m2.2973\u001b[0m  74.9593\n",
      "     24        \u001b[36m2.2973\u001b[0m       0.1048        \u001b[35m2.2971\u001b[0m  75.1578\n",
      "     25        \u001b[36m2.2971\u001b[0m       0.1064        \u001b[35m2.2968\u001b[0m  74.4299\n",
      "The channel was 64, the learning rate was 1e-05 and the optimizer was <class 'torch.optim.sgd.SGD'>\n",
      "  epoch    train_loss    valid_acc    valid_loss       dur\n",
      "-------  ------------  -----------  ------------  --------\n",
      "      1        \u001b[36m2.3036\u001b[0m       \u001b[32m0.1017\u001b[0m        \u001b[35m2.3032\u001b[0m  198.9562\n",
      "      2        \u001b[36m2.3030\u001b[0m       \u001b[32m0.1063\u001b[0m        \u001b[35m2.3026\u001b[0m  198.6153\n",
      "      3        \u001b[36m2.3024\u001b[0m       \u001b[32m0.1189\u001b[0m        \u001b[35m2.3021\u001b[0m  216.3862\n",
      "      4        \u001b[36m2.3019\u001b[0m       \u001b[32m0.1192\u001b[0m        \u001b[35m2.3015\u001b[0m  223.2036\n",
      "      5        \u001b[36m2.3014\u001b[0m       0.1128        \u001b[35m2.3010\u001b[0m  216.7390\n",
      "      6        \u001b[36m2.3009\u001b[0m       0.1063        \u001b[35m2.3005\u001b[0m  217.7274\n",
      "      7        \u001b[36m2.3005\u001b[0m       0.1027        \u001b[35m2.3001\u001b[0m  217.4551\n",
      "      8        \u001b[36m2.3000\u001b[0m       0.1016        \u001b[35m2.2996\u001b[0m  204.9226\n",
      "      9        \u001b[36m2.2996\u001b[0m       0.1003        \u001b[35m2.2992\u001b[0m  188.9512\n",
      "     10        \u001b[36m2.2991\u001b[0m       0.1001        \u001b[35m2.2987\u001b[0m  187.3891\n",
      "     11        \u001b[36m2.2987\u001b[0m       0.1002        \u001b[35m2.2983\u001b[0m  190.4109\n",
      "     12        \u001b[36m2.2982\u001b[0m       0.0998        \u001b[35m2.2978\u001b[0m  189.4197\n",
      "     13        \u001b[36m2.2978\u001b[0m       0.0997        \u001b[35m2.2974\u001b[0m  188.3463\n",
      "     14        \u001b[36m2.2974\u001b[0m       0.0996        \u001b[35m2.2969\u001b[0m  187.0955\n",
      "     15        \u001b[36m2.2969\u001b[0m       0.0995        \u001b[35m2.2965\u001b[0m  189.2065\n",
      "     16        \u001b[36m2.2965\u001b[0m       0.0994        \u001b[35m2.2960\u001b[0m  191.9360\n",
      "     17        \u001b[36m2.2961\u001b[0m       0.0997        \u001b[35m2.2956\u001b[0m  189.1270\n",
      "     18        \u001b[36m2.2956\u001b[0m       0.0997        \u001b[35m2.2951\u001b[0m  191.8527\n",
      "     19        \u001b[36m2.2952\u001b[0m       0.0998        \u001b[35m2.2946\u001b[0m  194.3153\n",
      "     20        \u001b[36m2.2947\u001b[0m       0.1001        \u001b[35m2.2941\u001b[0m  195.2716\n",
      "     21        \u001b[36m2.2942\u001b[0m       0.1001        \u001b[35m2.2937\u001b[0m  195.4924\n",
      "     22        \u001b[36m2.2937\u001b[0m       0.1000        \u001b[35m2.2932\u001b[0m  193.3946\n",
      "     23        \u001b[36m2.2933\u001b[0m       0.1009        \u001b[35m2.2927\u001b[0m  196.2878\n",
      "     24        \u001b[36m2.2928\u001b[0m       0.1013        \u001b[35m2.2922\u001b[0m  195.4867\n",
      "     25        \u001b[36m2.2923\u001b[0m       0.1014        \u001b[35m2.2916\u001b[0m  190.2633\n",
      "The channel was 16, the learning rate was 1e-05 and the optimizer was <class 'torch.optim.adam.Adam'>\n",
      "  epoch    train_loss    valid_acc    valid_loss      dur\n",
      "-------  ------------  -----------  ------------  -------\n",
      "      1        \u001b[36m2.2091\u001b[0m       \u001b[32m0.2735\u001b[0m        \u001b[35m2.0809\u001b[0m  40.5973\n",
      "      2        \u001b[36m2.0070\u001b[0m       \u001b[32m0.3232\u001b[0m        \u001b[35m1.9368\u001b[0m  29.1095\n",
      "      3        \u001b[36m1.9032\u001b[0m       \u001b[32m0.3541\u001b[0m        \u001b[35m1.8627\u001b[0m  29.8156\n",
      "      4        \u001b[36m1.8488\u001b[0m       \u001b[32m0.3669\u001b[0m        \u001b[35m1.8235\u001b[0m  30.3466\n",
      "      5        \u001b[36m1.8154\u001b[0m       \u001b[32m0.3802\u001b[0m        \u001b[35m1.7928\u001b[0m  30.2068\n",
      "      6        \u001b[36m1.7868\u001b[0m       \u001b[32m0.3920\u001b[0m        \u001b[35m1.7661\u001b[0m  41.0151\n",
      "      7        \u001b[36m1.7605\u001b[0m       \u001b[32m0.4017\u001b[0m        \u001b[35m1.7412\u001b[0m  31.3739\n",
      "      8        \u001b[36m1.7365\u001b[0m       \u001b[32m0.4086\u001b[0m        \u001b[35m1.7184\u001b[0m  31.1535\n",
      "      9        \u001b[36m1.7132\u001b[0m       \u001b[32m0.4165\u001b[0m        \u001b[35m1.6963\u001b[0m  31.2500\n",
      "     10        \u001b[36m1.6912\u001b[0m       \u001b[32m0.4213\u001b[0m        \u001b[35m1.6774\u001b[0m  42.8885\n",
      "     11        \u001b[36m1.6731\u001b[0m       \u001b[32m0.4237\u001b[0m        \u001b[35m1.6618\u001b[0m  31.5856\n",
      "     12        \u001b[36m1.6574\u001b[0m       \u001b[32m0.4282\u001b[0m        \u001b[35m1.6478\u001b[0m  31.1994\n",
      "     13        \u001b[36m1.6430\u001b[0m       \u001b[32m0.4318\u001b[0m        \u001b[35m1.6349\u001b[0m  30.9401\n",
      "     14        \u001b[36m1.6297\u001b[0m       \u001b[32m0.4361\u001b[0m        \u001b[35m1.6229\u001b[0m  32.1891\n",
      "     15        \u001b[36m1.6174\u001b[0m       \u001b[32m0.4398\u001b[0m        \u001b[35m1.6118\u001b[0m  31.5050\n",
      "     16        \u001b[36m1.6059\u001b[0m       \u001b[32m0.4441\u001b[0m        \u001b[35m1.6014\u001b[0m  30.8917\n",
      "     17        \u001b[36m1.5951\u001b[0m       \u001b[32m0.4468\u001b[0m        \u001b[35m1.5917\u001b[0m  31.0846\n",
      "     18        \u001b[36m1.5849\u001b[0m       \u001b[32m0.4492\u001b[0m        \u001b[35m1.5825\u001b[0m  77.5715\n",
      "     19        \u001b[36m1.5752\u001b[0m       \u001b[32m0.4510\u001b[0m        \u001b[35m1.5737\u001b[0m  30.6983\n",
      "     20        \u001b[36m1.5659\u001b[0m       \u001b[32m0.4541\u001b[0m        \u001b[35m1.5653\u001b[0m  31.0534\n",
      "     21        \u001b[36m1.5569\u001b[0m       \u001b[32m0.4564\u001b[0m        \u001b[35m1.5572\u001b[0m  31.2100\n",
      "     22        \u001b[36m1.5483\u001b[0m       \u001b[32m0.4584\u001b[0m        \u001b[35m1.5494\u001b[0m  31.0877\n",
      "     23        \u001b[36m1.5399\u001b[0m       \u001b[32m0.4624\u001b[0m        \u001b[35m1.5419\u001b[0m  31.1569\n",
      "     24        \u001b[36m1.5318\u001b[0m       \u001b[32m0.4653\u001b[0m        \u001b[35m1.5347\u001b[0m  31.5902\n",
      "     25        \u001b[36m1.5240\u001b[0m       \u001b[32m0.4679\u001b[0m        \u001b[35m1.5277\u001b[0m  31.0664\n",
      "The channel was 32, the learning rate was 1e-05 and the optimizer was <class 'torch.optim.adam.Adam'>\n",
      "  epoch    train_loss    valid_acc    valid_loss      dur\n",
      "-------  ------------  -----------  ------------  -------\n",
      "      1        \u001b[36m2.1149\u001b[0m       \u001b[32m0.3102\u001b[0m        \u001b[35m1.9411\u001b[0m  74.5811\n",
      "      2        \u001b[36m1.8789\u001b[0m       \u001b[32m0.3659\u001b[0m        \u001b[35m1.8154\u001b[0m  75.3951\n",
      "      3        \u001b[36m1.7784\u001b[0m       \u001b[32m0.3966\u001b[0m        \u001b[35m1.7454\u001b[0m  75.3582\n",
      "      4        \u001b[36m1.7204\u001b[0m       \u001b[32m0.4144\u001b[0m        \u001b[35m1.6974\u001b[0m  76.2177\n",
      "      5        \u001b[36m1.6808\u001b[0m       \u001b[32m0.4245\u001b[0m        \u001b[35m1.6626\u001b[0m  75.5505\n",
      "      6        \u001b[36m1.6494\u001b[0m       \u001b[32m0.4339\u001b[0m        \u001b[35m1.6335\u001b[0m  74.8786\n",
      "      7        \u001b[36m1.6202\u001b[0m       \u001b[32m0.4427\u001b[0m        \u001b[35m1.6066\u001b[0m  75.0219\n",
      "      8        \u001b[36m1.5946\u001b[0m       \u001b[32m0.4501\u001b[0m        \u001b[35m1.5847\u001b[0m  75.0177\n",
      "      9        \u001b[36m1.5721\u001b[0m       \u001b[32m0.4590\u001b[0m        \u001b[35m1.5651\u001b[0m  74.8159\n",
      "     10        \u001b[36m1.5513\u001b[0m       \u001b[32m0.4648\u001b[0m        \u001b[35m1.5471\u001b[0m  75.3309\n",
      "     11        \u001b[36m1.5320\u001b[0m       \u001b[32m0.4698\u001b[0m        \u001b[35m1.5309\u001b[0m  106.3320\n",
      "     12        \u001b[36m1.5143\u001b[0m       \u001b[32m0.4753\u001b[0m        \u001b[35m1.5164\u001b[0m  101.5381\n",
      "     13        \u001b[36m1.4982\u001b[0m       \u001b[32m0.4784\u001b[0m        \u001b[35m1.5034\u001b[0m  110.2510\n",
      "     14        \u001b[36m1.4836\u001b[0m       \u001b[32m0.4833\u001b[0m        \u001b[35m1.4916\u001b[0m  74.4855\n",
      "     15        \u001b[36m1.4703\u001b[0m       \u001b[32m0.4884\u001b[0m        \u001b[35m1.4810\u001b[0m  74.0732\n",
      "     16        \u001b[36m1.4580\u001b[0m       \u001b[32m0.4913\u001b[0m        \u001b[35m1.4713\u001b[0m  75.0069\n",
      "     17        \u001b[36m1.4466\u001b[0m       \u001b[32m0.4930\u001b[0m        \u001b[35m1.4623\u001b[0m  74.2623\n",
      "     18        \u001b[36m1.4360\u001b[0m       \u001b[32m0.4959\u001b[0m        \u001b[35m1.4540\u001b[0m  74.7864\n",
      "     19        \u001b[36m1.4259\u001b[0m       \u001b[32m0.4992\u001b[0m        \u001b[35m1.4461\u001b[0m  74.6959\n",
      "     20        \u001b[36m1.4163\u001b[0m       \u001b[32m0.5011\u001b[0m        \u001b[35m1.4385\u001b[0m  72.3184\n",
      "     21        \u001b[36m1.4070\u001b[0m       \u001b[32m0.5018\u001b[0m        \u001b[35m1.4311\u001b[0m  69.3383\n",
      "     22        \u001b[36m1.3980\u001b[0m       \u001b[32m0.5041\u001b[0m        \u001b[35m1.4240\u001b[0m  71.3612\n",
      "     23        \u001b[36m1.3893\u001b[0m       \u001b[32m0.5057\u001b[0m        \u001b[35m1.4170\u001b[0m  75.2446\n",
      "     24        \u001b[36m1.3807\u001b[0m       \u001b[32m0.5084\u001b[0m        \u001b[35m1.4101\u001b[0m  75.8924\n",
      "     25        \u001b[36m1.3722\u001b[0m       \u001b[32m0.5103\u001b[0m        \u001b[35m1.4032\u001b[0m  75.8757\n",
      "The channel was 64, the learning rate was 1e-05 and the optimizer was <class 'torch.optim.adam.Adam'>\n",
      "  epoch    train_loss    valid_acc    valid_loss       dur\n",
      "-------  ------------  -----------  ------------  --------\n",
      "      1        \u001b[36m2.0151\u001b[0m       \u001b[32m0.3576\u001b[0m        \u001b[35m1.8291\u001b[0m  202.1270\n",
      "      2        \u001b[36m1.7419\u001b[0m       \u001b[32m0.4183\u001b[0m        \u001b[35m1.6770\u001b[0m  198.7369\n",
      "      3        \u001b[36m1.6265\u001b[0m       \u001b[32m0.4446\u001b[0m        \u001b[35m1.5937\u001b[0m  201.3592\n",
      "      4        \u001b[36m1.5591\u001b[0m       \u001b[32m0.4619\u001b[0m        \u001b[35m1.5433\u001b[0m  202.4845\n",
      "      5        \u001b[36m1.5155\u001b[0m       \u001b[32m0.4742\u001b[0m        \u001b[35m1.5105\u001b[0m  201.6903\n",
      "      6        \u001b[36m1.4847\u001b[0m       \u001b[32m0.4827\u001b[0m        \u001b[35m1.4870\u001b[0m  203.2900\n",
      "      7        \u001b[36m1.4607\u001b[0m       \u001b[32m0.4893\u001b[0m        \u001b[35m1.4681\u001b[0m  203.0224\n",
      "      8        \u001b[36m1.4403\u001b[0m       \u001b[32m0.4940\u001b[0m        \u001b[35m1.4518\u001b[0m  200.8325\n",
      "      9        \u001b[36m1.4219\u001b[0m       \u001b[32m0.4975\u001b[0m        \u001b[35m1.4366\u001b[0m  202.5638\n",
      "     10        \u001b[36m1.4045\u001b[0m       \u001b[32m0.5019\u001b[0m        \u001b[35m1.4221\u001b[0m  203.0319\n",
      "     11        \u001b[36m1.3877\u001b[0m       \u001b[32m0.5031\u001b[0m        \u001b[35m1.4080\u001b[0m  201.4224\n",
      "     12        \u001b[36m1.3717\u001b[0m       \u001b[32m0.5075\u001b[0m        \u001b[35m1.3944\u001b[0m  203.0768\n",
      "     13        \u001b[36m1.3564\u001b[0m       \u001b[32m0.5113\u001b[0m        \u001b[35m1.3812\u001b[0m  201.1022\n",
      "     14        \u001b[36m1.3416\u001b[0m       \u001b[32m0.5164\u001b[0m        \u001b[35m1.3682\u001b[0m  201.2386\n",
      "     15        \u001b[36m1.3271\u001b[0m       \u001b[32m0.5193\u001b[0m        \u001b[35m1.3552\u001b[0m  202.8182\n",
      "     16        \u001b[36m1.3126\u001b[0m       \u001b[32m0.5223\u001b[0m        \u001b[35m1.3426\u001b[0m  202.0798\n",
      "     17        \u001b[36m1.2989\u001b[0m       \u001b[32m0.5263\u001b[0m        \u001b[35m1.3308\u001b[0m  203.6543\n",
      "     18        \u001b[36m1.2858\u001b[0m       \u001b[32m0.5293\u001b[0m        \u001b[35m1.3196\u001b[0m  204.5527\n",
      "     19        \u001b[36m1.2733\u001b[0m       \u001b[32m0.5334\u001b[0m        \u001b[35m1.3090\u001b[0m  202.7144\n",
      "     20        \u001b[36m1.2615\u001b[0m       \u001b[32m0.5381\u001b[0m        \u001b[35m1.2991\u001b[0m  202.4044\n",
      "     21        \u001b[36m1.2502\u001b[0m       \u001b[32m0.5427\u001b[0m        \u001b[35m1.2899\u001b[0m  202.2083\n",
      "     22        \u001b[36m1.2396\u001b[0m       \u001b[32m0.5456\u001b[0m        \u001b[35m1.2816\u001b[0m  204.1165\n",
      "     23        \u001b[36m1.2296\u001b[0m       \u001b[32m0.5494\u001b[0m        \u001b[35m1.2738\u001b[0m  204.8423\n",
      "     24        \u001b[36m1.2201\u001b[0m       \u001b[32m0.5541\u001b[0m        \u001b[35m1.2667\u001b[0m  204.6857\n",
      "     25        \u001b[36m1.2112\u001b[0m       \u001b[32m0.5566\u001b[0m        \u001b[35m1.2601\u001b[0m  198.3856\n",
      "The channel was 16, the learning rate was 0.0001 and the optimizer was <class 'torch.optim.sgd.SGD'>\n",
      "  epoch    train_loss    valid_acc    valid_loss      dur\n",
      "-------  ------------  -----------  ------------  -------\n",
      "      1        \u001b[36m2.3032\u001b[0m       \u001b[32m0.1000\u001b[0m        \u001b[35m2.3029\u001b[0m  28.7028\n",
      "      2        \u001b[36m2.3028\u001b[0m       0.1000        \u001b[35m2.3026\u001b[0m  28.3354\n",
      "      3        \u001b[36m2.3025\u001b[0m       0.1000        \u001b[35m2.3024\u001b[0m  28.4123\n",
      "      4        \u001b[36m2.3023\u001b[0m       0.1000        \u001b[35m2.3021\u001b[0m  27.5514\n",
      "      5        \u001b[36m2.3021\u001b[0m       0.0996        \u001b[35m2.3019\u001b[0m  28.1030\n",
      "      6        \u001b[36m2.3019\u001b[0m       \u001b[32m0.1098\u001b[0m        \u001b[35m2.3017\u001b[0m  29.9903\n",
      "      7        \u001b[36m2.3017\u001b[0m       \u001b[32m0.1358\u001b[0m        \u001b[35m2.3015\u001b[0m  28.3431\n",
      "      8        \u001b[36m2.3014\u001b[0m       0.1344        \u001b[35m2.3012\u001b[0m  28.8486\n",
      "      9        \u001b[36m2.3012\u001b[0m       0.1194        \u001b[35m2.3010\u001b[0m  28.3444\n",
      "     10        \u001b[36m2.3009\u001b[0m       0.1104        \u001b[35m2.3007\u001b[0m  29.0628\n",
      "     11        \u001b[36m2.3006\u001b[0m       0.1101        \u001b[35m2.3004\u001b[0m  29.2648\n",
      "     12        \u001b[36m2.3003\u001b[0m       0.1119        \u001b[35m2.3000\u001b[0m  28.6420\n",
      "     13        \u001b[36m2.2999\u001b[0m       0.1138        \u001b[35m2.2996\u001b[0m  29.5950\n",
      "     14        \u001b[36m2.2994\u001b[0m       0.1148        \u001b[35m2.2991\u001b[0m  29.9916\n",
      "     15        \u001b[36m2.2990\u001b[0m       0.1152        \u001b[35m2.2985\u001b[0m  31.6355\n",
      "     16        \u001b[36m2.2984\u001b[0m       0.1147        \u001b[35m2.2979\u001b[0m  29.3639\n",
      "     17        \u001b[36m2.2978\u001b[0m       0.1155        \u001b[35m2.2973\u001b[0m  29.2405\n",
      "     18        \u001b[36m2.2971\u001b[0m       0.1178        \u001b[35m2.2965\u001b[0m  29.2563\n",
      "     19        \u001b[36m2.2963\u001b[0m       0.1187        \u001b[35m2.2957\u001b[0m  28.8609\n",
      "     20        \u001b[36m2.2955\u001b[0m       0.1214        \u001b[35m2.2948\u001b[0m  28.9748\n",
      "     21        \u001b[36m2.2945\u001b[0m       0.1237        \u001b[35m2.2937\u001b[0m  29.7247\n",
      "     22        \u001b[36m2.2934\u001b[0m       0.1259        \u001b[35m2.2925\u001b[0m  29.3646\n",
      "     23        \u001b[36m2.2921\u001b[0m       0.1292        \u001b[35m2.2911\u001b[0m  29.2549\n",
      "     24        \u001b[36m2.2907\u001b[0m       0.1312        \u001b[35m2.2895\u001b[0m  28.1076\n",
      "     25        \u001b[36m2.2890\u001b[0m       0.1330        \u001b[35m2.2876\u001b[0m  29.5127\n",
      "The channel was 32, the learning rate was 0.0001 and the optimizer was <class 'torch.optim.sgd.SGD'>\n",
      "  epoch    train_loss    valid_acc    valid_loss      dur\n",
      "-------  ------------  -----------  ------------  -------\n",
      "      1        \u001b[36m2.3019\u001b[0m       \u001b[32m0.1010\u001b[0m        \u001b[35m2.3004\u001b[0m  71.7964\n",
      "      2        \u001b[36m2.2990\u001b[0m       0.0957        \u001b[35m2.2975\u001b[0m  71.3975\n",
      "      3        \u001b[36m2.2961\u001b[0m       \u001b[32m0.1035\u001b[0m        \u001b[35m2.2944\u001b[0m  72.1388\n",
      "      4        \u001b[36m2.2929\u001b[0m       \u001b[32m0.1090\u001b[0m        \u001b[35m2.2909\u001b[0m  71.7891\n",
      "      5        \u001b[36m2.2892\u001b[0m       \u001b[32m0.1129\u001b[0m        \u001b[35m2.2868\u001b[0m  72.7883\n",
      "      6        \u001b[36m2.2847\u001b[0m       \u001b[32m0.1206\u001b[0m        \u001b[35m2.2818\u001b[0m  71.2684\n",
      "      7        \u001b[36m2.2794\u001b[0m       \u001b[32m0.1338\u001b[0m        \u001b[35m2.2758\u001b[0m  70.9856\n",
      "      8        \u001b[36m2.2729\u001b[0m       \u001b[32m0.1507\u001b[0m        \u001b[35m2.2685\u001b[0m  72.8750\n",
      "      9        \u001b[36m2.2650\u001b[0m       \u001b[32m0.1693\u001b[0m        \u001b[35m2.2595\u001b[0m  71.1035\n",
      "     10        \u001b[36m2.2553\u001b[0m       \u001b[32m0.1898\u001b[0m        \u001b[35m2.2485\u001b[0m  73.5009\n",
      "     11        \u001b[36m2.2432\u001b[0m       \u001b[32m0.2095\u001b[0m        \u001b[35m2.2347\u001b[0m  72.6865\n",
      "     12        \u001b[36m2.2283\u001b[0m       \u001b[32m0.2266\u001b[0m        \u001b[35m2.2178\u001b[0m  71.6683\n",
      "     13        \u001b[36m2.2100\u001b[0m       \u001b[32m0.2424\u001b[0m        \u001b[35m2.1972\u001b[0m  71.6845\n",
      "     14        \u001b[36m2.1879\u001b[0m       \u001b[32m0.2544\u001b[0m        \u001b[35m2.1726\u001b[0m  72.0716\n",
      "     15        \u001b[36m2.1620\u001b[0m       \u001b[32m0.2632\u001b[0m        \u001b[35m2.1445\u001b[0m  71.5759\n",
      "     16        \u001b[36m2.1333\u001b[0m       \u001b[32m0.2672\u001b[0m        \u001b[35m2.1144\u001b[0m  72.5669\n",
      "     17        \u001b[36m2.1039\u001b[0m       \u001b[32m0.2737\u001b[0m        \u001b[35m2.0849\u001b[0m  71.9720\n",
      "     18        \u001b[36m2.0761\u001b[0m       \u001b[32m0.2800\u001b[0m        \u001b[35m2.0577\u001b[0m  71.5721\n",
      "     19        \u001b[36m2.0511\u001b[0m       \u001b[32m0.2833\u001b[0m        \u001b[35m2.0338\u001b[0m  71.3198\n",
      "     20        \u001b[36m2.0293\u001b[0m       \u001b[32m0.2873\u001b[0m        \u001b[35m2.0132\u001b[0m  72.4818\n",
      "     21        \u001b[36m2.0106\u001b[0m       \u001b[32m0.2932\u001b[0m        \u001b[35m1.9956\u001b[0m  73.3503\n",
      "     22        \u001b[36m1.9946\u001b[0m       \u001b[32m0.2983\u001b[0m        \u001b[35m1.9805\u001b[0m  71.5927\n",
      "     23        \u001b[36m1.9807\u001b[0m       \u001b[32m0.3028\u001b[0m        \u001b[35m1.9673\u001b[0m  71.5969\n",
      "     24        \u001b[36m1.9683\u001b[0m       \u001b[32m0.3082\u001b[0m        \u001b[35m1.9554\u001b[0m  71.0115\n",
      "     25        \u001b[36m1.9570\u001b[0m       \u001b[32m0.3136\u001b[0m        \u001b[35m1.9445\u001b[0m  71.7138\n",
      "The channel was 64, the learning rate was 0.0001 and the optimizer was <class 'torch.optim.sgd.SGD'>\n",
      "  epoch    train_loss    valid_acc    valid_loss       dur\n",
      "-------  ------------  -----------  ------------  --------\n",
      "      1        \u001b[36m2.3009\u001b[0m       \u001b[32m0.1120\u001b[0m        \u001b[35m2.2982\u001b[0m  195.1902\n",
      "      2        \u001b[36m2.2964\u001b[0m       0.1066        \u001b[35m2.2936\u001b[0m  194.0137\n",
      "      3        \u001b[36m2.2916\u001b[0m       0.1109        \u001b[35m2.2885\u001b[0m  194.2230\n",
      "      4        \u001b[36m2.2862\u001b[0m       \u001b[32m0.1200\u001b[0m        \u001b[35m2.2823\u001b[0m  195.4474\n",
      "      5        \u001b[36m2.2794\u001b[0m       \u001b[32m0.1364\u001b[0m        \u001b[35m2.2745\u001b[0m  195.2063\n",
      "      6        \u001b[36m2.2707\u001b[0m       \u001b[32m0.1554\u001b[0m        \u001b[35m2.2645\u001b[0m  193.1715\n",
      "      7        \u001b[36m2.2595\u001b[0m       \u001b[32m0.1787\u001b[0m        \u001b[35m2.2514\u001b[0m  194.5282\n",
      "      8        \u001b[36m2.2449\u001b[0m       \u001b[32m0.1982\u001b[0m        \u001b[35m2.2345\u001b[0m  195.8728\n",
      "      9        \u001b[36m2.2262\u001b[0m       \u001b[32m0.2093\u001b[0m        \u001b[35m2.2133\u001b[0m  194.8654\n",
      "     10        \u001b[36m2.2034\u001b[0m       \u001b[32m0.2224\u001b[0m        \u001b[35m2.1881\u001b[0m  194.6705\n",
      "     11        \u001b[36m2.1772\u001b[0m       \u001b[32m0.2323\u001b[0m        \u001b[35m2.1603\u001b[0m  195.2831\n",
      "     12        \u001b[36m2.1495\u001b[0m       \u001b[32m0.2421\u001b[0m        \u001b[35m2.1323\u001b[0m  196.9269\n",
      "     13        \u001b[36m2.1227\u001b[0m       \u001b[32m0.2524\u001b[0m        \u001b[35m2.1065\u001b[0m  193.8297\n",
      "     14        \u001b[36m2.0984\u001b[0m       \u001b[32m0.2648\u001b[0m        \u001b[35m2.0832\u001b[0m  194.5961\n",
      "     15        \u001b[36m2.0761\u001b[0m       \u001b[32m0.2734\u001b[0m        \u001b[35m2.0616\u001b[0m  194.1725\n",
      "     16        \u001b[36m2.0549\u001b[0m       \u001b[32m0.2848\u001b[0m        \u001b[35m2.0406\u001b[0m  194.5781\n",
      "     17        \u001b[36m2.0340\u001b[0m       \u001b[32m0.2949\u001b[0m        \u001b[35m2.0197\u001b[0m  196.1359\n",
      "     18        \u001b[36m2.0132\u001b[0m       \u001b[32m0.3010\u001b[0m        \u001b[35m1.9989\u001b[0m  197.9209\n",
      "     19        \u001b[36m1.9929\u001b[0m       \u001b[32m0.3081\u001b[0m        \u001b[35m1.9790\u001b[0m  195.3134\n",
      "     20        \u001b[36m1.9740\u001b[0m       \u001b[32m0.3152\u001b[0m        \u001b[35m1.9606\u001b[0m  195.0304\n",
      "     21        \u001b[36m1.9568\u001b[0m       \u001b[32m0.3224\u001b[0m        \u001b[35m1.9441\u001b[0m  197.6767\n",
      "     22        \u001b[36m1.9417\u001b[0m       \u001b[32m0.3277\u001b[0m        \u001b[35m1.9298\u001b[0m  198.4896\n",
      "     23        \u001b[36m1.9287\u001b[0m       \u001b[32m0.3320\u001b[0m        \u001b[35m1.9175\u001b[0m  196.9817\n",
      "     24        \u001b[36m1.9176\u001b[0m       \u001b[32m0.3345\u001b[0m        \u001b[35m1.9069\u001b[0m  196.7081\n",
      "     25        \u001b[36m1.9080\u001b[0m       \u001b[32m0.3358\u001b[0m        \u001b[35m1.8977\u001b[0m  193.1102\n",
      "The channel was 16, the learning rate was 0.0001 and the optimizer was <class 'torch.optim.adam.Adam'>\n",
      "  epoch    train_loss    valid_acc    valid_loss      dur\n",
      "-------  ------------  -----------  ------------  -------\n",
      "      1        \u001b[36m1.9091\u001b[0m       \u001b[32m0.4104\u001b[0m        \u001b[35m1.6901\u001b[0m  30.7223\n",
      "      2        \u001b[36m1.6127\u001b[0m       \u001b[32m0.4607\u001b[0m        \u001b[35m1.5194\u001b[0m  30.9500\n",
      "      3        \u001b[36m1.5025\u001b[0m       \u001b[32m0.4793\u001b[0m        \u001b[35m1.4623\u001b[0m  30.9233\n",
      "      4        \u001b[36m1.4517\u001b[0m       \u001b[32m0.4902\u001b[0m        \u001b[35m1.4305\u001b[0m  30.2721\n",
      "      5        \u001b[36m1.4129\u001b[0m       \u001b[32m0.5029\u001b[0m        \u001b[35m1.3984\u001b[0m  31.8046\n",
      "      6        \u001b[36m1.3701\u001b[0m       \u001b[32m0.5123\u001b[0m        \u001b[35m1.3735\u001b[0m  31.1818\n",
      "      7        \u001b[36m1.3288\u001b[0m       \u001b[32m0.5216\u001b[0m        \u001b[35m1.3455\u001b[0m  31.5237\n",
      "      8        \u001b[36m1.2937\u001b[0m       \u001b[32m0.5321\u001b[0m        \u001b[35m1.3172\u001b[0m  31.0971\n",
      "      9        \u001b[36m1.2590\u001b[0m       \u001b[32m0.5437\u001b[0m        \u001b[35m1.2906\u001b[0m  30.9779\n",
      "     10        \u001b[36m1.2283\u001b[0m       \u001b[32m0.5503\u001b[0m        \u001b[35m1.2708\u001b[0m  30.2025\n",
      "     11        \u001b[36m1.2016\u001b[0m       \u001b[32m0.5568\u001b[0m        \u001b[35m1.2541\u001b[0m  31.1930\n",
      "     12        \u001b[36m1.1771\u001b[0m       \u001b[32m0.5621\u001b[0m        \u001b[35m1.2402\u001b[0m  31.1481\n",
      "     13        \u001b[36m1.1543\u001b[0m       \u001b[32m0.5667\u001b[0m        \u001b[35m1.2282\u001b[0m  31.0480\n",
      "     14        \u001b[36m1.1332\u001b[0m       \u001b[32m0.5718\u001b[0m        \u001b[35m1.2180\u001b[0m  30.6424\n",
      "     15        \u001b[36m1.1136\u001b[0m       \u001b[32m0.5761\u001b[0m        \u001b[35m1.2095\u001b[0m  31.3306\n",
      "     16        \u001b[36m1.0954\u001b[0m       \u001b[32m0.5794\u001b[0m        \u001b[35m1.2020\u001b[0m  31.3529\n",
      "     17        \u001b[36m1.0785\u001b[0m       \u001b[32m0.5811\u001b[0m        \u001b[35m1.1952\u001b[0m  31.1834\n",
      "     18        \u001b[36m1.0627\u001b[0m       \u001b[32m0.5817\u001b[0m        \u001b[35m1.1891\u001b[0m  31.1058\n",
      "     19        \u001b[36m1.0478\u001b[0m       \u001b[32m0.5851\u001b[0m        \u001b[35m1.1836\u001b[0m  31.0362\n",
      "     20        \u001b[36m1.0336\u001b[0m       \u001b[32m0.5861\u001b[0m        \u001b[35m1.1784\u001b[0m  30.9513\n",
      "     21        \u001b[36m1.0201\u001b[0m       \u001b[32m0.5883\u001b[0m        \u001b[35m1.1740\u001b[0m  31.1171\n",
      "     22        \u001b[36m1.0072\u001b[0m       \u001b[32m0.5902\u001b[0m        \u001b[35m1.1700\u001b[0m  31.0392\n",
      "     23        \u001b[36m0.9948\u001b[0m       \u001b[32m0.5936\u001b[0m        \u001b[35m1.1660\u001b[0m  30.5617\n",
      "     24        \u001b[36m0.9829\u001b[0m       \u001b[32m0.5959\u001b[0m        \u001b[35m1.1625\u001b[0m  30.8305\n",
      "     25        \u001b[36m0.9713\u001b[0m       \u001b[32m0.5972\u001b[0m        \u001b[35m1.1596\u001b[0m  31.4569\n",
      "The channel was 32, the learning rate was 0.0001 and the optimizer was <class 'torch.optim.adam.Adam'>\n",
      "  epoch    train_loss    valid_acc    valid_loss      dur\n",
      "-------  ------------  -----------  ------------  -------\n",
      "      1        \u001b[36m1.7448\u001b[0m       \u001b[32m0.4688\u001b[0m        \u001b[35m1.5068\u001b[0m  75.5064\n",
      "      2        \u001b[36m1.4580\u001b[0m       \u001b[32m0.5062\u001b[0m        \u001b[35m1.3951\u001b[0m  75.1589\n",
      "      3        \u001b[36m1.3332\u001b[0m       \u001b[32m0.5375\u001b[0m        \u001b[35m1.3080\u001b[0m  75.4120\n",
      "      4        \u001b[36m1.2465\u001b[0m       \u001b[32m0.5582\u001b[0m        \u001b[35m1.2512\u001b[0m  75.9160\n",
      "      5        \u001b[36m1.1877\u001b[0m       \u001b[32m0.5734\u001b[0m        \u001b[35m1.2123\u001b[0m  75.0868\n",
      "      6        \u001b[36m1.1410\u001b[0m       \u001b[32m0.5847\u001b[0m        \u001b[35m1.1852\u001b[0m  74.9629\n",
      "      7        \u001b[36m1.1002\u001b[0m       \u001b[32m0.5949\u001b[0m        \u001b[35m1.1653\u001b[0m  75.5087\n",
      "      8        \u001b[36m1.0633\u001b[0m       \u001b[32m0.5996\u001b[0m        \u001b[35m1.1492\u001b[0m  75.9712\n",
      "      9        \u001b[36m1.0295\u001b[0m       \u001b[32m0.6058\u001b[0m        \u001b[35m1.1342\u001b[0m  76.0611\n",
      "     10        \u001b[36m0.9980\u001b[0m       \u001b[32m0.6107\u001b[0m        \u001b[35m1.1192\u001b[0m  75.7848\n",
      "     11        \u001b[36m0.9679\u001b[0m       \u001b[32m0.6156\u001b[0m        \u001b[35m1.1054\u001b[0m  75.7735\n",
      "     12        \u001b[36m0.9389\u001b[0m       \u001b[32m0.6199\u001b[0m        \u001b[35m1.0942\u001b[0m  76.3694\n",
      "     13        \u001b[36m0.9105\u001b[0m       \u001b[32m0.6219\u001b[0m        \u001b[35m1.0854\u001b[0m  76.6931\n",
      "     14        \u001b[36m0.8830\u001b[0m       \u001b[32m0.6250\u001b[0m        \u001b[35m1.0779\u001b[0m  75.8649\n",
      "     15        \u001b[36m0.8561\u001b[0m       \u001b[32m0.6296\u001b[0m        \u001b[35m1.0724\u001b[0m  76.3687\n",
      "     16        \u001b[36m0.8300\u001b[0m       \u001b[32m0.6347\u001b[0m        \u001b[35m1.0692\u001b[0m  76.4422\n",
      "     17        \u001b[36m0.8044\u001b[0m       \u001b[32m0.6380\u001b[0m        \u001b[35m1.0671\u001b[0m  83.2052\n",
      "     18        \u001b[36m0.7794\u001b[0m       \u001b[32m0.6387\u001b[0m        1.0675  75.9804\n",
      "     19        \u001b[36m0.7552\u001b[0m       \u001b[32m0.6392\u001b[0m        1.0690  75.9325\n",
      "     20        \u001b[36m0.7316\u001b[0m       \u001b[32m0.6395\u001b[0m        1.0721  76.2727\n",
      "     21        \u001b[36m0.7087\u001b[0m       0.6395        1.0767  76.2571\n",
      "Stopping since valid_loss has not improved in the last 5 epochs.\n",
      "The channel was 64, the learning rate was 0.0001 and the optimizer was <class 'torch.optim.adam.Adam'>\n",
      "  epoch    train_loss    valid_acc    valid_loss       dur\n",
      "-------  ------------  -----------  ------------  --------\n",
      "      1        \u001b[36m1.6846\u001b[0m       \u001b[32m0.4873\u001b[0m        \u001b[35m1.4493\u001b[0m  199.5793\n",
      "      2        \u001b[36m1.3539\u001b[0m       \u001b[32m0.5523\u001b[0m        \u001b[35m1.2738\u001b[0m  199.9522\n",
      "      3        \u001b[36m1.2091\u001b[0m       \u001b[32m0.5765\u001b[0m        \u001b[35m1.2135\u001b[0m  200.8681\n",
      "      4        \u001b[36m1.1118\u001b[0m       \u001b[32m0.5935\u001b[0m        \u001b[35m1.1575\u001b[0m  200.6454\n",
      "      5        \u001b[36m1.0238\u001b[0m       \u001b[32m0.6135\u001b[0m        \u001b[35m1.1113\u001b[0m  201.8104\n",
      "      6        \u001b[36m0.9444\u001b[0m       \u001b[32m0.6264\u001b[0m        \u001b[35m1.0786\u001b[0m  201.4504\n",
      "      7        \u001b[36m0.8754\u001b[0m       \u001b[32m0.6313\u001b[0m        \u001b[35m1.0595\u001b[0m  203.6201\n",
      "      8        \u001b[36m0.8145\u001b[0m       \u001b[32m0.6402\u001b[0m        \u001b[35m1.0516\u001b[0m  202.8307\n",
      "      9        \u001b[36m0.7593\u001b[0m       \u001b[32m0.6422\u001b[0m        1.0526  200.6320\n",
      "     10        \u001b[36m0.7077\u001b[0m       \u001b[32m0.6450\u001b[0m        1.0609  203.2361\n",
      "     11        \u001b[36m0.6587\u001b[0m       0.6443        1.0765  203.4782\n",
      "     12        \u001b[36m0.6113\u001b[0m       0.6437        1.0997  352.7898\n",
      "Stopping since valid_loss has not improved in the last 5 epochs.\n",
      "The channel was 16, the learning rate was 0.001 and the optimizer was <class 'torch.optim.sgd.SGD'>\n",
      "  epoch    train_loss    valid_acc    valid_loss      dur\n",
      "-------  ------------  -----------  ------------  -------\n",
      "      1        \u001b[36m2.2964\u001b[0m       \u001b[32m0.1563\u001b[0m        \u001b[35m2.2855\u001b[0m  62.8376\n",
      "      2        \u001b[36m2.2500\u001b[0m       \u001b[32m0.2369\u001b[0m        \u001b[35m2.1857\u001b[0m  63.1041\n",
      "      3        \u001b[36m2.0977\u001b[0m       \u001b[32m0.2771\u001b[0m        \u001b[35m2.0253\u001b[0m  61.0745\n",
      "      4        \u001b[36m1.9956\u001b[0m       \u001b[32m0.3003\u001b[0m        \u001b[35m1.9668\u001b[0m  58.8770\n",
      "      5        \u001b[36m1.9464\u001b[0m       \u001b[32m0.3193\u001b[0m        \u001b[35m1.9265\u001b[0m  59.4622\n",
      "      6        \u001b[36m1.9105\u001b[0m       \u001b[32m0.3325\u001b[0m        \u001b[35m1.8931\u001b[0m  61.0843\n",
      "      7        \u001b[36m1.8791\u001b[0m       \u001b[32m0.3464\u001b[0m        \u001b[35m1.8611\u001b[0m  59.7554\n",
      "      8        \u001b[36m1.8484\u001b[0m       \u001b[32m0.3598\u001b[0m        \u001b[35m1.8307\u001b[0m  59.1445\n",
      "      9        \u001b[36m1.8205\u001b[0m       \u001b[32m0.3675\u001b[0m        \u001b[35m1.8045\u001b[0m  59.5986\n",
      "     10        \u001b[36m1.7975\u001b[0m       \u001b[32m0.3725\u001b[0m        \u001b[35m1.7836\u001b[0m  55.7545\n",
      "     11        \u001b[36m1.7786\u001b[0m       \u001b[32m0.3777\u001b[0m        \u001b[35m1.7670\u001b[0m  52.4581\n",
      "     12        \u001b[36m1.7627\u001b[0m       \u001b[32m0.3846\u001b[0m        \u001b[35m1.7533\u001b[0m  57.9407\n",
      "     13        \u001b[36m1.7489\u001b[0m       \u001b[32m0.3882\u001b[0m        \u001b[35m1.7418\u001b[0m  59.9380\n",
      "     14        \u001b[36m1.7367\u001b[0m       \u001b[32m0.3925\u001b[0m        \u001b[35m1.7317\u001b[0m  65.5651\n",
      "     15        \u001b[36m1.7257\u001b[0m       \u001b[32m0.3944\u001b[0m        \u001b[35m1.7224\u001b[0m  57.1700\n",
      "     16        \u001b[36m1.7155\u001b[0m       \u001b[32m0.3960\u001b[0m        \u001b[35m1.7138\u001b[0m  31.3681\n",
      "     17        \u001b[36m1.7055\u001b[0m       \u001b[32m0.3986\u001b[0m        \u001b[35m1.7051\u001b[0m  35.0293\n",
      "     18        \u001b[36m1.6956\u001b[0m       \u001b[32m0.4018\u001b[0m        \u001b[35m1.6961\u001b[0m  39.7325\n",
      "     19        \u001b[36m1.6852\u001b[0m       \u001b[32m0.4064\u001b[0m        \u001b[35m1.6861\u001b[0m  38.0291\n",
      "     20        \u001b[36m1.6740\u001b[0m       \u001b[32m0.4115\u001b[0m        \u001b[35m1.6748\u001b[0m  36.4835\n",
      "     21        \u001b[36m1.6617\u001b[0m       \u001b[32m0.4163\u001b[0m        \u001b[35m1.6620\u001b[0m  41.1977\n",
      "     22        \u001b[36m1.6481\u001b[0m       \u001b[32m0.4227\u001b[0m        \u001b[35m1.6480\u001b[0m  41.3113\n",
      "     23        \u001b[36m1.6336\u001b[0m       \u001b[32m0.4269\u001b[0m        \u001b[35m1.6332\u001b[0m  34.2660\n",
      "     24        \u001b[36m1.6189\u001b[0m       \u001b[32m0.4337\u001b[0m        \u001b[35m1.6187\u001b[0m  39.6896\n",
      "     25        \u001b[36m1.6043\u001b[0m       \u001b[32m0.4382\u001b[0m        \u001b[35m1.6046\u001b[0m  39.7966\n",
      "The channel was 32, the learning rate was 0.001 and the optimizer was <class 'torch.optim.sgd.SGD'>\n",
      "  epoch    train_loss    valid_acc    valid_loss       dur\n",
      "-------  ------------  -----------  ------------  --------\n",
      "      1        \u001b[36m2.2918\u001b[0m       \u001b[32m0.1775\u001b[0m        \u001b[35m2.2719\u001b[0m  100.1234\n",
      "      2        \u001b[36m2.1953\u001b[0m       \u001b[32m0.2770\u001b[0m        \u001b[35m2.0722\u001b[0m  98.2262\n",
      "      3        \u001b[36m1.9944\u001b[0m       \u001b[32m0.3046\u001b[0m        \u001b[35m1.9449\u001b[0m  103.1981\n",
      "      4        \u001b[36m1.9145\u001b[0m       \u001b[32m0.3318\u001b[0m        \u001b[35m1.8852\u001b[0m  104.1640\n",
      "      5        \u001b[36m1.8644\u001b[0m       \u001b[32m0.3492\u001b[0m        \u001b[35m1.8420\u001b[0m  104.9741\n",
      "      6        \u001b[36m1.8289\u001b[0m       \u001b[32m0.3612\u001b[0m        \u001b[35m1.8109\u001b[0m  105.7524\n",
      "      7        \u001b[36m1.8018\u001b[0m       \u001b[32m0.3664\u001b[0m        \u001b[35m1.7870\u001b[0m  105.2751\n",
      "      8        \u001b[36m1.7796\u001b[0m       \u001b[32m0.3738\u001b[0m        \u001b[35m1.7674\u001b[0m  102.9188\n",
      "      9        \u001b[36m1.7605\u001b[0m       \u001b[32m0.3808\u001b[0m        \u001b[35m1.7508\u001b[0m  100.9611\n",
      "     10        \u001b[36m1.7439\u001b[0m       \u001b[32m0.3855\u001b[0m        \u001b[35m1.7362\u001b[0m  105.1222\n",
      "     11        \u001b[36m1.7285\u001b[0m       \u001b[32m0.3919\u001b[0m        \u001b[35m1.7221\u001b[0m  105.9550\n",
      "     12        \u001b[36m1.7134\u001b[0m       \u001b[32m0.3981\u001b[0m        \u001b[35m1.7078\u001b[0m  106.2921\n",
      "     13        \u001b[36m1.6978\u001b[0m       \u001b[32m0.4039\u001b[0m        \u001b[35m1.6923\u001b[0m  105.0269\n",
      "     14        \u001b[36m1.6808\u001b[0m       \u001b[32m0.4117\u001b[0m        \u001b[35m1.6747\u001b[0m  101.3276\n",
      "     15        \u001b[36m1.6623\u001b[0m       \u001b[32m0.4192\u001b[0m        \u001b[35m1.6553\u001b[0m  106.9754\n",
      "     16        \u001b[36m1.6433\u001b[0m       \u001b[32m0.4245\u001b[0m        \u001b[35m1.6361\u001b[0m  106.4313\n",
      "     17        \u001b[36m1.6254\u001b[0m       \u001b[32m0.4321\u001b[0m        \u001b[35m1.6191\u001b[0m  106.3367\n",
      "     18        \u001b[36m1.6094\u001b[0m       \u001b[32m0.4386\u001b[0m        \u001b[35m1.6042\u001b[0m  105.7679\n",
      "     19        \u001b[36m1.5948\u001b[0m       \u001b[32m0.4425\u001b[0m        \u001b[35m1.5906\u001b[0m  105.5507\n",
      "     20        \u001b[36m1.5807\u001b[0m       \u001b[32m0.4490\u001b[0m        \u001b[35m1.5774\u001b[0m  79.0545\n",
      "     21        \u001b[36m1.5669\u001b[0m       \u001b[32m0.4531\u001b[0m        \u001b[35m1.5643\u001b[0m  110.3573\n",
      "     22        \u001b[36m1.5530\u001b[0m       \u001b[32m0.4584\u001b[0m        \u001b[35m1.5511\u001b[0m  111.5549\n",
      "     23        \u001b[36m1.5390\u001b[0m       \u001b[32m0.4614\u001b[0m        \u001b[35m1.5379\u001b[0m  112.9123\n",
      "     24        \u001b[36m1.5251\u001b[0m       \u001b[32m0.4657\u001b[0m        \u001b[35m1.5249\u001b[0m  113.7903\n",
      "     25        \u001b[36m1.5112\u001b[0m       \u001b[32m0.4707\u001b[0m        \u001b[35m1.5122\u001b[0m  111.5942\n",
      "The channel was 64, the learning rate was 0.001 and the optimizer was <class 'torch.optim.sgd.SGD'>\n",
      "  epoch    train_loss    valid_acc    valid_loss       dur\n",
      "-------  ------------  -----------  ------------  --------\n",
      "      1        \u001b[36m2.2575\u001b[0m       \u001b[32m0.2347\u001b[0m        \u001b[35m2.1720\u001b[0m  284.8710\n",
      "      2        \u001b[36m2.0469\u001b[0m       \u001b[32m0.3039\u001b[0m        \u001b[35m1.9570\u001b[0m  271.1822\n",
      "      3        \u001b[36m1.9155\u001b[0m       \u001b[32m0.3392\u001b[0m        \u001b[35m1.8792\u001b[0m  257.0626\n",
      "      4        \u001b[36m1.8564\u001b[0m       \u001b[32m0.3573\u001b[0m        \u001b[35m1.8284\u001b[0m  252.7677\n",
      "      5        \u001b[36m1.8129\u001b[0m       \u001b[32m0.3730\u001b[0m        \u001b[35m1.7880\u001b[0m  253.8607\n",
      "      6        \u001b[36m1.7745\u001b[0m       \u001b[32m0.3881\u001b[0m        \u001b[35m1.7490\u001b[0m  303.3023\n",
      "      7        \u001b[36m1.7372\u001b[0m       \u001b[32m0.4042\u001b[0m        \u001b[35m1.7110\u001b[0m  222.1229\n",
      "      8        \u001b[36m1.7038\u001b[0m       \u001b[32m0.4136\u001b[0m        \u001b[35m1.6800\u001b[0m  241.7212\n",
      "      9        \u001b[36m1.6768\u001b[0m       \u001b[32m0.4232\u001b[0m        \u001b[35m1.6558\u001b[0m  202.0839\n",
      "     10        \u001b[36m1.6538\u001b[0m       \u001b[32m0.4310\u001b[0m        \u001b[35m1.6353\u001b[0m  263.5292\n",
      "     11        \u001b[36m1.6329\u001b[0m       \u001b[32m0.4373\u001b[0m        \u001b[35m1.6168\u001b[0m  265.5118\n",
      "     12        \u001b[36m1.6132\u001b[0m       \u001b[32m0.4438\u001b[0m        \u001b[35m1.5992\u001b[0m  251.3128\n",
      "     13        \u001b[36m1.5942\u001b[0m       \u001b[32m0.4494\u001b[0m        \u001b[35m1.5822\u001b[0m  226.1318\n",
      "     14        \u001b[36m1.5756\u001b[0m       \u001b[32m0.4549\u001b[0m        \u001b[35m1.5653\u001b[0m  241.7881\n",
      "     15        \u001b[36m1.5574\u001b[0m       \u001b[32m0.4595\u001b[0m        \u001b[35m1.5487\u001b[0m  192.4584\n",
      "     16        \u001b[36m1.5395\u001b[0m       \u001b[32m0.4634\u001b[0m        \u001b[35m1.5325\u001b[0m  194.0290\n",
      "     17        \u001b[36m1.5223\u001b[0m       \u001b[32m0.4689\u001b[0m        \u001b[35m1.5173\u001b[0m  198.1915\n",
      "     18        \u001b[36m1.5060\u001b[0m       \u001b[32m0.4732\u001b[0m        \u001b[35m1.5035\u001b[0m  214.3901\n",
      "     19        \u001b[36m1.4909\u001b[0m       \u001b[32m0.4765\u001b[0m        \u001b[35m1.4911\u001b[0m  214.4707\n",
      "     20        \u001b[36m1.4770\u001b[0m       \u001b[32m0.4790\u001b[0m        \u001b[35m1.4797\u001b[0m  213.0608\n",
      "     21        \u001b[36m1.4642\u001b[0m       \u001b[32m0.4803\u001b[0m        \u001b[35m1.4692\u001b[0m  212.3046\n",
      "     22        \u001b[36m1.4521\u001b[0m       \u001b[32m0.4821\u001b[0m        \u001b[35m1.4595\u001b[0m  213.4897\n",
      "     23        \u001b[36m1.4405\u001b[0m       \u001b[32m0.4861\u001b[0m        \u001b[35m1.4501\u001b[0m  213.9201\n",
      "     24        \u001b[36m1.4294\u001b[0m       \u001b[32m0.4909\u001b[0m        \u001b[35m1.4412\u001b[0m  213.1770\n",
      "     25        \u001b[36m1.4184\u001b[0m       \u001b[32m0.4937\u001b[0m        \u001b[35m1.4325\u001b[0m  214.2598\n",
      "The channel was 16, the learning rate was 0.001 and the optimizer was <class 'torch.optim.adam.Adam'>\n",
      "  epoch    train_loss    valid_acc    valid_loss      dur\n",
      "-------  ------------  -----------  ------------  -------\n",
      "      1        \u001b[36m1.7436\u001b[0m       \u001b[32m0.4735\u001b[0m        \u001b[35m1.4827\u001b[0m  33.6238\n",
      "      2        \u001b[36m1.4139\u001b[0m       \u001b[32m0.5314\u001b[0m        \u001b[35m1.3268\u001b[0m  34.9068\n",
      "      3        \u001b[36m1.2470\u001b[0m       \u001b[32m0.5739\u001b[0m        \u001b[35m1.2012\u001b[0m  34.2287\n",
      "      4        \u001b[36m1.1048\u001b[0m       \u001b[32m0.5939\u001b[0m        \u001b[35m1.1564\u001b[0m  33.9101\n",
      "      5        \u001b[36m0.9872\u001b[0m       \u001b[32m0.6057\u001b[0m        \u001b[35m1.1545\u001b[0m  33.7875\n",
      "      6        \u001b[36m0.8806\u001b[0m       \u001b[32m0.6068\u001b[0m        1.1838  33.9868\n",
      "      7        \u001b[36m0.7912\u001b[0m       0.6066        1.2303  33.8943\n",
      "      8        \u001b[36m0.7121\u001b[0m       0.6018        1.3180  33.9959\n",
      "      9        \u001b[36m0.6346\u001b[0m       0.5843        1.5201  34.5033\n",
      "Stopping since valid_loss has not improved in the last 5 epochs.\n",
      "The channel was 32, the learning rate was 0.001 and the optimizer was <class 'torch.optim.adam.Adam'>\n",
      "  epoch    train_loss    valid_acc    valid_loss      dur\n",
      "-------  ------------  -----------  ------------  -------\n",
      "      1        \u001b[36m1.6392\u001b[0m       \u001b[32m0.5129\u001b[0m        \u001b[35m1.3716\u001b[0m  79.5216\n",
      "      2        \u001b[36m1.2768\u001b[0m       \u001b[32m0.5762\u001b[0m        \u001b[35m1.1864\u001b[0m  80.1609\n",
      "      3        \u001b[36m1.0843\u001b[0m       \u001b[32m0.5977\u001b[0m        \u001b[35m1.1543\u001b[0m  81.0517\n",
      "      4        \u001b[36m0.9439\u001b[0m       \u001b[32m0.6044\u001b[0m        1.1950  80.9044\n",
      "      5        \u001b[36m0.8090\u001b[0m       \u001b[32m0.6082\u001b[0m        1.2552  81.2396\n",
      "      6        \u001b[36m0.6837\u001b[0m       0.5862        1.4491  80.4444\n",
      "      7        \u001b[36m0.5770\u001b[0m       0.5707        1.6861  80.3253\n",
      "Stopping since valid_loss has not improved in the last 5 epochs.\n",
      "The channel was 64, the learning rate was 0.001 and the optimizer was <class 'torch.optim.adam.Adam'>\n",
      "  epoch    train_loss    valid_acc    valid_loss       dur\n",
      "-------  ------------  -----------  ------------  --------\n",
      "      1        \u001b[36m1.5455\u001b[0m       \u001b[32m0.5606\u001b[0m        \u001b[35m1.2410\u001b[0m  215.2249\n",
      "      2        \u001b[36m1.1250\u001b[0m       \u001b[32m0.6300\u001b[0m        \u001b[35m1.0641\u001b[0m  218.1638\n",
      "      3        \u001b[36m0.9070\u001b[0m       \u001b[32m0.6414\u001b[0m        \u001b[35m1.0592\u001b[0m  218.0134\n",
      "      4        \u001b[36m0.7451\u001b[0m       0.6298        1.1461  220.1412\n",
      "      5        \u001b[36m0.6064\u001b[0m       0.6173        1.3049  217.9364\n",
      "      6        \u001b[36m0.4885\u001b[0m       0.6053        1.4677  218.7542\n",
      "      7        \u001b[36m0.4168\u001b[0m       0.6066        1.5865  220.4605\n",
      "Stopping since valid_loss has not improved in the last 5 epochs.\n",
      "The channel was 16, the learning rate was 0.01 and the optimizer was <class 'torch.optim.sgd.SGD'>\n",
      "  epoch    train_loss    valid_acc    valid_loss      dur\n",
      "-------  ------------  -----------  ------------  -------\n",
      "      1        \u001b[36m2.0554\u001b[0m       \u001b[32m0.3064\u001b[0m        \u001b[35m1.9374\u001b[0m  32.1266\n",
      "      2        \u001b[36m1.7919\u001b[0m       \u001b[32m0.3784\u001b[0m        \u001b[35m1.7518\u001b[0m  31.9039\n",
      "      3        \u001b[36m1.7046\u001b[0m       \u001b[32m0.4043\u001b[0m        \u001b[35m1.6787\u001b[0m  32.3028\n",
      "      4        \u001b[36m1.6251\u001b[0m       \u001b[32m0.4372\u001b[0m        \u001b[35m1.5879\u001b[0m  31.8986\n",
      "      5        \u001b[36m1.5426\u001b[0m       \u001b[32m0.4630\u001b[0m        \u001b[35m1.5165\u001b[0m  32.4555\n",
      "      6        \u001b[36m1.4749\u001b[0m       \u001b[32m0.4854\u001b[0m        \u001b[35m1.4505\u001b[0m  32.0101\n",
      "      7        \u001b[36m1.4209\u001b[0m       \u001b[32m0.5007\u001b[0m        \u001b[35m1.3991\u001b[0m  32.1931\n",
      "      8        \u001b[36m1.3768\u001b[0m       \u001b[32m0.5098\u001b[0m        \u001b[35m1.3647\u001b[0m  32.3143\n",
      "      9        \u001b[36m1.3407\u001b[0m       \u001b[32m0.5189\u001b[0m        \u001b[35m1.3422\u001b[0m  34.0823\n",
      "     10        \u001b[36m1.3103\u001b[0m       \u001b[32m0.5260\u001b[0m        \u001b[35m1.3247\u001b[0m  32.7837\n",
      "     11        \u001b[36m1.2837\u001b[0m       \u001b[32m0.5310\u001b[0m        \u001b[35m1.3127\u001b[0m  32.8594\n",
      "     12        \u001b[36m1.2589\u001b[0m       \u001b[32m0.5351\u001b[0m        \u001b[35m1.3050\u001b[0m  32.8592\n",
      "     13        \u001b[36m1.2350\u001b[0m       \u001b[32m0.5375\u001b[0m        \u001b[35m1.2950\u001b[0m  32.2958\n",
      "     14        \u001b[36m1.2113\u001b[0m       \u001b[32m0.5429\u001b[0m        \u001b[35m1.2863\u001b[0m  32.6479\n",
      "     15        \u001b[36m1.1864\u001b[0m       \u001b[32m0.5448\u001b[0m        \u001b[35m1.2753\u001b[0m  32.5674\n",
      "     16        \u001b[36m1.1600\u001b[0m       \u001b[32m0.5510\u001b[0m        \u001b[35m1.2620\u001b[0m  32.5912\n",
      "     17        \u001b[36m1.1338\u001b[0m       \u001b[32m0.5579\u001b[0m        \u001b[35m1.2510\u001b[0m  32.1261\n",
      "     18        \u001b[36m1.1076\u001b[0m       \u001b[32m0.5624\u001b[0m        \u001b[35m1.2430\u001b[0m  33.1683\n",
      "     19        \u001b[36m1.0813\u001b[0m       \u001b[32m0.5708\u001b[0m        \u001b[35m1.2259\u001b[0m  32.5658\n",
      "     20        \u001b[36m1.0546\u001b[0m       \u001b[32m0.5763\u001b[0m        \u001b[35m1.2112\u001b[0m  32.9377\n",
      "     21        \u001b[36m1.0271\u001b[0m       \u001b[32m0.5802\u001b[0m        \u001b[35m1.2013\u001b[0m  32.5382\n",
      "     22        \u001b[36m0.9991\u001b[0m       \u001b[32m0.5859\u001b[0m        \u001b[35m1.1914\u001b[0m  32.8069\n",
      "     23        \u001b[36m0.9713\u001b[0m       \u001b[32m0.5882\u001b[0m        \u001b[35m1.1885\u001b[0m  33.4357\n",
      "     24        \u001b[36m0.9440\u001b[0m       \u001b[32m0.5933\u001b[0m        \u001b[35m1.1867\u001b[0m  32.8244\n",
      "     25        \u001b[36m0.9175\u001b[0m       \u001b[32m0.5937\u001b[0m        1.1897  33.5969\n",
      "The channel was 32, the learning rate was 0.01 and the optimizer was <class 'torch.optim.sgd.SGD'>\n",
      "  epoch    train_loss    valid_acc    valid_loss      dur\n",
      "-------  ------------  -----------  ------------  -------\n",
      "      1        \u001b[36m1.9882\u001b[0m       \u001b[32m0.3503\u001b[0m        \u001b[35m1.8243\u001b[0m  78.8034\n",
      "      2        \u001b[36m1.7197\u001b[0m       \u001b[32m0.4227\u001b[0m        \u001b[35m1.6394\u001b[0m  79.1140\n",
      "      3        \u001b[36m1.5920\u001b[0m       \u001b[32m0.4604\u001b[0m        \u001b[35m1.5231\u001b[0m  78.4201\n",
      "      4        \u001b[36m1.4871\u001b[0m       \u001b[32m0.4865\u001b[0m        \u001b[35m1.4378\u001b[0m  77.9095\n",
      "      5        \u001b[36m1.4048\u001b[0m       \u001b[32m0.5134\u001b[0m        \u001b[35m1.3671\u001b[0m  79.3930\n",
      "      6        \u001b[36m1.3368\u001b[0m       \u001b[32m0.5274\u001b[0m        \u001b[35m1.3144\u001b[0m  78.3532\n",
      "      7        \u001b[36m1.2702\u001b[0m       \u001b[32m0.5384\u001b[0m        \u001b[35m1.2814\u001b[0m  78.9115\n",
      "      8        \u001b[36m1.2169\u001b[0m       \u001b[32m0.5473\u001b[0m        \u001b[35m1.2562\u001b[0m  78.8646\n",
      "      9        \u001b[36m1.1693\u001b[0m       \u001b[32m0.5588\u001b[0m        \u001b[35m1.2340\u001b[0m  79.3294\n",
      "     10        \u001b[36m1.1236\u001b[0m       \u001b[32m0.5699\u001b[0m        \u001b[35m1.2112\u001b[0m  79.0200\n",
      "     11        \u001b[36m1.0788\u001b[0m       \u001b[32m0.5806\u001b[0m        \u001b[35m1.1873\u001b[0m  79.5395\n",
      "     12        \u001b[36m1.0351\u001b[0m       \u001b[32m0.5904\u001b[0m        \u001b[35m1.1709\u001b[0m  79.4168\n",
      "     13        \u001b[36m0.9931\u001b[0m       \u001b[32m0.5929\u001b[0m        \u001b[35m1.1610\u001b[0m  80.7001\n",
      "     14        \u001b[36m0.9530\u001b[0m       \u001b[32m0.6008\u001b[0m        \u001b[35m1.1532\u001b[0m  79.4426\n",
      "     15        \u001b[36m0.9143\u001b[0m       \u001b[32m0.6039\u001b[0m        \u001b[35m1.1506\u001b[0m  79.4936\n",
      "     16        \u001b[36m0.8764\u001b[0m       \u001b[32m0.6059\u001b[0m        1.1516  79.8378\n",
      "     17        \u001b[36m0.8392\u001b[0m       \u001b[32m0.6081\u001b[0m        1.1577  81.5592\n",
      "     18        \u001b[36m0.8021\u001b[0m       \u001b[32m0.6086\u001b[0m        1.1680  79.7244\n",
      "     19        \u001b[36m0.7651\u001b[0m       \u001b[32m0.6106\u001b[0m        1.1833  80.8649\n",
      "Stopping since valid_loss has not improved in the last 5 epochs.\n",
      "The channel was 64, the learning rate was 0.01 and the optimizer was <class 'torch.optim.sgd.SGD'>\n",
      "  epoch    train_loss    valid_acc    valid_loss       dur\n",
      "-------  ------------  -----------  ------------  --------\n",
      "      1        \u001b[36m1.9238\u001b[0m       \u001b[32m0.3923\u001b[0m        \u001b[35m1.7129\u001b[0m  213.7789\n",
      "      2        \u001b[36m1.6223\u001b[0m       \u001b[32m0.4537\u001b[0m        \u001b[35m1.5411\u001b[0m  216.7653\n",
      "      3        \u001b[36m1.4901\u001b[0m       \u001b[32m0.4887\u001b[0m        \u001b[35m1.4371\u001b[0m  216.1997\n",
      "      4        \u001b[36m1.4097\u001b[0m       \u001b[32m0.5048\u001b[0m        \u001b[35m1.3796\u001b[0m  218.8107\n",
      "      5        \u001b[36m1.3467\u001b[0m       \u001b[32m0.5199\u001b[0m        \u001b[35m1.3309\u001b[0m  216.5749\n",
      "      6        \u001b[36m1.2840\u001b[0m       \u001b[32m0.5423\u001b[0m        \u001b[35m1.2776\u001b[0m  214.9383\n",
      "      7        \u001b[36m1.2187\u001b[0m       \u001b[32m0.5589\u001b[0m        \u001b[35m1.2334\u001b[0m  215.9890\n",
      "      8        \u001b[36m1.1613\u001b[0m       \u001b[32m0.5735\u001b[0m        \u001b[35m1.1945\u001b[0m  216.7445\n",
      "      9        \u001b[36m1.1131\u001b[0m       \u001b[32m0.5865\u001b[0m        \u001b[35m1.1653\u001b[0m  216.2992\n",
      "     10        \u001b[36m1.0708\u001b[0m       \u001b[32m0.5958\u001b[0m        \u001b[35m1.1396\u001b[0m  217.9955\n",
      "     11        \u001b[36m1.0329\u001b[0m       \u001b[32m0.6027\u001b[0m        \u001b[35m1.1224\u001b[0m  228.4997\n",
      "     12        \u001b[36m0.9984\u001b[0m       \u001b[32m0.6096\u001b[0m        \u001b[35m1.1077\u001b[0m  224.0026\n",
      "     13        \u001b[36m0.9654\u001b[0m       \u001b[32m0.6143\u001b[0m        \u001b[35m1.0994\u001b[0m  216.9344\n",
      "     14        \u001b[36m0.9331\u001b[0m       \u001b[32m0.6200\u001b[0m        \u001b[35m1.0930\u001b[0m  236.4126\n",
      "     15        \u001b[36m0.9002\u001b[0m       \u001b[32m0.6204\u001b[0m        \u001b[35m1.0890\u001b[0m  247.5127\n",
      "     16        \u001b[36m0.8663\u001b[0m       \u001b[32m0.6213\u001b[0m        \u001b[35m1.0879\u001b[0m  242.1076\n",
      "     17        \u001b[36m0.8310\u001b[0m       \u001b[32m0.6250\u001b[0m        \u001b[35m1.0874\u001b[0m  226.0298\n",
      "     18        \u001b[36m0.7947\u001b[0m       \u001b[32m0.6259\u001b[0m        1.0890  216.5611\n",
      "     19        \u001b[36m0.7578\u001b[0m       \u001b[32m0.6282\u001b[0m        1.0964  217.5583\n",
      "     20        \u001b[36m0.7206\u001b[0m       \u001b[32m0.6294\u001b[0m        1.1091  254.2584\n",
      "     21        \u001b[36m0.6830\u001b[0m       0.6274        1.1272  260.1418\n",
      "Stopping since valid_loss has not improved in the last 5 epochs.\n",
      "The channel was 16, the learning rate was 0.01 and the optimizer was <class 'torch.optim.adam.Adam'>\n",
      "  epoch    train_loss    valid_acc    valid_loss      dur\n",
      "-------  ------------  -----------  ------------  -------\n",
      "      1        \u001b[36m2.3163\u001b[0m       \u001b[32m0.1000\u001b[0m        \u001b[35m2.3034\u001b[0m  50.7011\n",
      "      2        \u001b[36m2.3038\u001b[0m       0.1000        2.3035  47.4422\n",
      "      3        2.3039       0.1000        2.3035  42.5227\n",
      "      4        2.3039       0.1000        2.3035  41.7330\n",
      "      5        2.3039       0.1000        2.3035  38.6801\n",
      "Stopping since valid_loss has not improved in the last 5 epochs.\n",
      "The channel was 32, the learning rate was 0.01 and the optimizer was <class 'torch.optim.adam.Adam'>\n",
      "  epoch    train_loss    valid_acc    valid_loss      dur\n",
      "-------  ------------  -----------  ------------  -------\n",
      "      1        \u001b[36m2.3153\u001b[0m       \u001b[32m0.1000\u001b[0m        \u001b[35m2.3035\u001b[0m  89.8181\n",
      "      2        \u001b[36m2.3039\u001b[0m       0.1000        2.3035  90.8093\n",
      "      3        2.3039       0.1000        2.3035  123.9652\n",
      "      4        2.3039       0.1000        2.3035  135.9307\n",
      "      5        2.3039       0.1000        2.3035  118.6586\n",
      "Stopping since valid_loss has not improved in the last 5 epochs.\n",
      "The channel was 64, the learning rate was 0.01 and the optimizer was <class 'torch.optim.adam.Adam'>\n",
      "  epoch    train_loss    valid_acc    valid_loss       dur\n",
      "-------  ------------  -----------  ------------  --------\n",
      "      1        \u001b[36m2.7192\u001b[0m       \u001b[32m0.1000\u001b[0m        \u001b[35m2.3034\u001b[0m  262.2795\n",
      "      2        \u001b[36m2.3038\u001b[0m       0.1000        2.3035  242.4639\n",
      "      3        2.3039       0.1000        2.3035  280.0173\n",
      "      4        2.3039       0.1000        2.3035  268.4130\n",
      "      5        2.3039       0.1000        2.3035  440.0961\n",
      "Stopping since valid_loss has not improved in the last 5 epochs.\n"
     ]
    }
   ],
   "source": [
    "# implement hyperparameters, you can select and modify the hyperparameters by yourself here.\n",
    "\n",
    "optimize = [torch.optim.SGD, torch.optim.Adam]\n",
    "learning_rate = [1e-5, 1e-4, 1e-3, 1e-2]\n",
    "channel = [16,32,64]\n",
    "\n",
    "\n",
    "train_data_normalized = torch.Tensor(train.data/255)\n",
    "train_data_normalized = train_data_normalized.permute(0,3,1,2)\n",
    "\n",
    "for l in learning_rate:\n",
    "  for o in optimize: \n",
    "    for c in channel:\n",
    "      print(f'The channel was {c}, the learning rate was {l} and the optimizer was {str(o)}')\n",
    "\n",
    "      cnn = CNN(channels = c)\n",
    "      \n",
    "      model = skorch.NeuralNetClassifier(cnn, criterion=torch.nn.CrossEntropyLoss,\n",
    "                                   device=\"cpu\",\n",
    "                                   optimizer=o,\n",
    "                                  # optimizer__momentum=0.90,\n",
    "                                   lr=l,\n",
    "                                   max_epochs=25,\n",
    "                                   batch_size=64,\n",
    "                                   callbacks=[skorch.callbacks.EarlyStopping(lower_is_better=True)])\n",
    "      # implement input normalization & type cast here \n",
    "      model.fit(train_data_normalized, np.asarray(train.targets))\n"
   ]
  },
  {
   "cell_type": "markdown",
   "metadata": {
    "colab_type": "text",
    "id": "w-EHKzozkRbD"
   },
   "source": [
    "Write down **validation accuracy** of your model under different hyperparameter settings. Note the validation set is automatically split by Skorch during `model.fit()`.\n",
    "\n",
    "\n",
    "| #channel for each layer \\ optimizer | SGD   | Adam  |\n",
    "|-------------------------------------|-------|-------|\n",
    "|           (16,16,16)                | 62.64 | 66.00 |\n",
    "|           (32,32,32)                | 67.89 | 72.11 |\n",
    "|           (64,64,64)                | 63.22 | 65.60 |\n"
   ]
  },
  {
   "cell_type": "markdown",
   "metadata": {
    "colab_type": "text",
    "id": "go55LVSJd-vG"
   },
   "source": [
    "### 2) Full CNN implementation (10 points)"
   ]
  },
  {
   "cell_type": "markdown",
   "metadata": {
    "colab_type": "text",
    "id": "6G0eCj6OmOEE"
   },
   "source": [
    "Based on the CNN in the previous question, implement a full CNN model with max pooling layer.\n",
    "\n",
    "- Add a max pooling layer after each convolutional layer.\n",
    "- Each max pooling layer has a kernel size of 2 and a stride of 2.\n",
    "\n",
    "Please implement this model in the following section. The hyperparameters is then be tuned and fill the results in the table. You are also required to complete the questions."
   ]
  },
  {
   "cell_type": "markdown",
   "metadata": {
    "colab_type": "text",
    "id": "bMrKGlMQhCa0"
   },
   "source": [
    "#### a) Implement max pooling layers"
   ]
  },
  {
   "cell_type": "markdown",
   "metadata": {
    "colab_type": "text",
    "id": "g2INt6P3Myd1"
   },
   "source": [
    "Similar to the CNN implementation in previous question, implement max pooling layers."
   ]
  },
  {
   "cell_type": "code",
   "execution_count": 9,
   "metadata": {
    "colab": {},
    "colab_type": "code",
    "id": "DHu3Ic2dM1S9"
   },
   "outputs": [],
   "source": [
    "class CNN_MaxPool(nn.Module):\n",
    "  def __init__(self, channels):\n",
    "    super(CNN_MaxPool, self).__init__()\n",
    "    # implement parameter definitions here\n",
    "    # *****START OF YOUR CODE (DO NOT DELETE/MODIFY THIS LINE)*****\n",
    "    self.conv1 = nn.Conv2d(3,512,3,padding=1)\n",
    "    self.conv2 = nn.Conv2d(512,512,3,padding=1)\n",
    "    self.conv3 = nn.Conv2d(512,512,3,padding=1)\n",
    "    self.pool = nn.MaxPool2d(kernel_size=2, stride=2)\n",
    "    self.fcl = nn.Linear(512*4*4,10)\n",
    "    # *****END OF YOUR CODE (DO NOT DELETE/MODIFY THIS LINE)*****\n",
    "  \n",
    "  def forward(self, images):\n",
    "    # implement the forward function here\n",
    "    # *****START OF YOUR CODE (DO NOT DELETE/MODIFY THIS LINE)*****\n",
    "    images = self.pool(F.relu(self.conv1(images)))\n",
    "    images = self.pool(F.relu(self.conv2(images)))\n",
    "    images = self.pool(F.relu(self.conv3(images)))\n",
    "    images = images.view(images.size(0), -1)\n",
    "    images = self.fcl(images)\n",
    "    # *****END OF YOUR CODE (DO NOT DELETE/MODIFY THIS LINE)*****\n",
    "    return images"
   ]
  },
  {
   "cell_type": "markdown",
   "metadata": {
    "colab_type": "text",
    "id": "-A6AEOoigq68"
   },
   "source": [
    "#### b) Tune hyperparameters"
   ]
  },
  {
   "cell_type": "markdown",
   "metadata": {
    "colab_type": "text",
    "id": "drH4MHSVNqwz"
   },
   "source": [
    "Based on the better optimizer found in the previous problem, we can tune the number of channels and learning rate for best validation accuracy."
   ]
  },
  {
   "cell_type": "code",
   "execution_count": 7,
   "metadata": {
    "colab": {
     "base_uri": "https://localhost:8080/",
     "height": 515
    },
    "colab_type": "code",
    "id": "7povzg-4Nhrr",
    "outputId": "edff26c7-6f98-49be-cac4-9e6ef53c83c7"
   },
   "outputs": [
    {
     "name": "stdout",
     "output_type": "stream",
     "text": [
      "The channel was 16, the learning rate was 1e-05\n",
      "  epoch    train_loss    valid_acc    valid_loss        dur\n",
      "-------  ------------  -----------  ------------  ---------\n",
      "      1        \u001b[36m1.9620\u001b[0m       \u001b[32m0.4077\u001b[0m        \u001b[35m1.7026\u001b[0m  2015.3576\n",
      "      2        \u001b[36m1.6225\u001b[0m       \u001b[32m0.4595\u001b[0m        \u001b[35m1.5351\u001b[0m  2181.7414\n",
      "      3        \u001b[36m1.4975\u001b[0m       \u001b[32m0.4886\u001b[0m        \u001b[35m1.4461\u001b[0m  2189.5115\n",
      "      4        \u001b[36m1.4178\u001b[0m       \u001b[32m0.5118\u001b[0m        \u001b[35m1.3862\u001b[0m  2183.9949\n",
      "      5        \u001b[36m1.3609\u001b[0m       \u001b[32m0.5283\u001b[0m        \u001b[35m1.3418\u001b[0m  2181.5302\n",
      "      6        \u001b[36m1.3178\u001b[0m       \u001b[32m0.5435\u001b[0m        \u001b[35m1.3058\u001b[0m  2182.7197\n",
      "      7        \u001b[36m1.2821\u001b[0m       \u001b[32m0.5561\u001b[0m        \u001b[35m1.2747\u001b[0m  2183.1216\n",
      "      8        \u001b[36m1.2505\u001b[0m       \u001b[32m0.5653\u001b[0m        \u001b[35m1.2466\u001b[0m  2175.7946\n",
      "      9        \u001b[36m1.2216\u001b[0m       \u001b[32m0.5737\u001b[0m        \u001b[35m1.2212\u001b[0m  2122.4000\n",
      "     10        \u001b[36m1.1948\u001b[0m       \u001b[32m0.5821\u001b[0m        \u001b[35m1.1977\u001b[0m  2116.9122\n",
      "     11        \u001b[36m1.1697\u001b[0m       \u001b[32m0.5895\u001b[0m        \u001b[35m1.1760\u001b[0m  2111.7452\n",
      "     12        \u001b[36m1.1462\u001b[0m       \u001b[32m0.5974\u001b[0m        \u001b[35m1.1558\u001b[0m  2133.8165\n",
      "     13        \u001b[36m1.1239\u001b[0m       \u001b[32m0.6046\u001b[0m        \u001b[35m1.1369\u001b[0m  2165.6519\n",
      "     14        \u001b[36m1.1029\u001b[0m       \u001b[32m0.6119\u001b[0m        \u001b[35m1.1189\u001b[0m  2179.4310\n",
      "     15        \u001b[36m1.0829\u001b[0m       \u001b[32m0.6195\u001b[0m        \u001b[35m1.1020\u001b[0m  2176.8308\n",
      "     16        \u001b[36m1.0637\u001b[0m       \u001b[32m0.6238\u001b[0m        \u001b[35m1.0863\u001b[0m  2186.6272\n",
      "     17        \u001b[36m1.0455\u001b[0m       \u001b[32m0.6263\u001b[0m        \u001b[35m1.0712\u001b[0m  2190.6645\n",
      "     18        \u001b[36m1.0280\u001b[0m       \u001b[32m0.6311\u001b[0m        \u001b[35m1.0570\u001b[0m  2132.4965\n",
      "     19        \u001b[36m1.0113\u001b[0m       \u001b[32m0.6364\u001b[0m        \u001b[35m1.0436\u001b[0m  2491.9667\n",
      "     20        \u001b[36m0.9951\u001b[0m       \u001b[32m0.6418\u001b[0m        \u001b[35m1.0309\u001b[0m  2022.1192\n",
      "     21        \u001b[36m0.9796\u001b[0m       \u001b[32m0.6457\u001b[0m        \u001b[35m1.0188\u001b[0m  1885.7328\n",
      "     22        \u001b[36m0.9648\u001b[0m       \u001b[32m0.6514\u001b[0m        \u001b[35m1.0072\u001b[0m  1745.3710\n",
      "     23        \u001b[36m0.9505\u001b[0m       \u001b[32m0.6555\u001b[0m        \u001b[35m0.9963\u001b[0m  1745.1618\n",
      "     24        \u001b[36m0.9367\u001b[0m       \u001b[32m0.6584\u001b[0m        \u001b[35m0.9858\u001b[0m  1770.0926\n",
      "     25        \u001b[36m0.9235\u001b[0m       \u001b[32m0.6600\u001b[0m        \u001b[35m0.9759\u001b[0m  2212.5278\n",
      "The channel was 32, the learning rate was 1e-05\n",
      "  epoch    train_loss    valid_acc    valid_loss        dur\n",
      "-------  ------------  -----------  ------------  ---------\n",
      "      1        \u001b[36m1.9730\u001b[0m       \u001b[32m0.4036\u001b[0m        \u001b[35m1.7164\u001b[0m  1949.7775\n",
      "      2        \u001b[36m1.6381\u001b[0m       \u001b[32m0.4532\u001b[0m        \u001b[35m1.5527\u001b[0m  1489.9995\n",
      "      3        \u001b[36m1.5127\u001b[0m       \u001b[32m0.4858\u001b[0m        \u001b[35m1.4591\u001b[0m  1483.2545\n",
      "      4        \u001b[36m1.4310\u001b[0m       \u001b[32m0.5029\u001b[0m        \u001b[35m1.3969\u001b[0m  1962.5577\n",
      "      5        \u001b[36m1.3724\u001b[0m       \u001b[32m0.5189\u001b[0m        \u001b[35m1.3522\u001b[0m  1624.4438\n",
      "      6        \u001b[36m1.3286\u001b[0m       \u001b[32m0.5328\u001b[0m        \u001b[35m1.3165\u001b[0m  1860.1606\n",
      "      7        \u001b[36m1.2928\u001b[0m       \u001b[32m0.5456\u001b[0m        \u001b[35m1.2858\u001b[0m  2097.1347\n",
      "      8        \u001b[36m1.2615\u001b[0m       \u001b[32m0.5581\u001b[0m        \u001b[35m1.2582\u001b[0m  1860.9127\n",
      "      9        \u001b[36m1.2330\u001b[0m       \u001b[32m0.5702\u001b[0m        \u001b[35m1.2329\u001b[0m  1925.6908\n",
      "     10        \u001b[36m1.2065\u001b[0m       \u001b[32m0.5782\u001b[0m        \u001b[35m1.2097\u001b[0m  1926.7113\n",
      "     11        \u001b[36m1.1819\u001b[0m       \u001b[32m0.5853\u001b[0m        \u001b[35m1.1880\u001b[0m  1904.7657\n",
      "     12        \u001b[36m1.1586\u001b[0m       \u001b[32m0.5928\u001b[0m        \u001b[35m1.1679\u001b[0m  2011.2623\n",
      "     13        \u001b[36m1.1366\u001b[0m       \u001b[32m0.6000\u001b[0m        \u001b[35m1.1489\u001b[0m  1861.9987\n",
      "     14        \u001b[36m1.1157\u001b[0m       \u001b[32m0.6052\u001b[0m        \u001b[35m1.1312\u001b[0m  1962.1067\n",
      "     15        \u001b[36m1.0958\u001b[0m       \u001b[32m0.6104\u001b[0m        \u001b[35m1.1144\u001b[0m  2043.5940\n",
      "     16        \u001b[36m1.0768\u001b[0m       \u001b[32m0.6162\u001b[0m        \u001b[35m1.0988\u001b[0m  2634.7108\n",
      "     17        \u001b[36m1.0587\u001b[0m       \u001b[32m0.6199\u001b[0m        \u001b[35m1.0841\u001b[0m  2675.6508\n",
      "     18        \u001b[36m1.0413\u001b[0m       \u001b[32m0.6253\u001b[0m        \u001b[35m1.0700\u001b[0m  2109.1479\n",
      "     19        \u001b[36m1.0246\u001b[0m       \u001b[32m0.6296\u001b[0m        \u001b[35m1.0566\u001b[0m  2029.2728\n",
      "     20        \u001b[36m1.0086\u001b[0m       \u001b[32m0.6341\u001b[0m        \u001b[35m1.0440\u001b[0m  2033.8819\n",
      "     21        \u001b[36m0.9933\u001b[0m       \u001b[32m0.6392\u001b[0m        \u001b[35m1.0322\u001b[0m  2029.2635\n",
      "     22        \u001b[36m0.9785\u001b[0m       \u001b[32m0.6440\u001b[0m        \u001b[35m1.0208\u001b[0m  2028.9265\n",
      "     23        \u001b[36m0.9644\u001b[0m       \u001b[32m0.6473\u001b[0m        \u001b[35m1.0100\u001b[0m  2025.9630\n",
      "     24        \u001b[36m0.9507\u001b[0m       \u001b[32m0.6506\u001b[0m        \u001b[35m0.9996\u001b[0m  2036.2984\n",
      "     25        \u001b[36m0.9375\u001b[0m       \u001b[32m0.6535\u001b[0m        \u001b[35m0.9899\u001b[0m  2012.0991\n",
      "The channel was 64, the learning rate was 1e-05\n",
      "  epoch    train_loss    valid_acc    valid_loss        dur\n",
      "-------  ------------  -----------  ------------  ---------\n",
      "      1        \u001b[36m1.9789\u001b[0m       \u001b[32m0.4005\u001b[0m        \u001b[35m1.7277\u001b[0m  1985.6530\n",
      "      2        \u001b[36m1.6450\u001b[0m       \u001b[32m0.4538\u001b[0m        \u001b[35m1.5547\u001b[0m  1985.4058\n",
      "      3        \u001b[36m1.5141\u001b[0m       \u001b[32m0.4847\u001b[0m        \u001b[35m1.4577\u001b[0m  1987.3407\n",
      "      4        \u001b[36m1.4299\u001b[0m       \u001b[32m0.5104\u001b[0m        \u001b[35m1.3948\u001b[0m  1992.3526\n",
      "      5        \u001b[36m1.3713\u001b[0m       \u001b[32m0.5266\u001b[0m        \u001b[35m1.3502\u001b[0m  1986.3687\n",
      "      6        \u001b[36m1.3274\u001b[0m       \u001b[32m0.5381\u001b[0m        \u001b[35m1.3144\u001b[0m  2005.1232\n",
      "      7        \u001b[36m1.2912\u001b[0m       \u001b[32m0.5513\u001b[0m        \u001b[35m1.2838\u001b[0m  2030.5202\n",
      "      8        \u001b[36m1.2592\u001b[0m       \u001b[32m0.5605\u001b[0m        \u001b[35m1.2562\u001b[0m  2034.0302\n",
      "      9        \u001b[36m1.2302\u001b[0m       \u001b[32m0.5709\u001b[0m        \u001b[35m1.2308\u001b[0m  2040.9535\n",
      "     10        \u001b[36m1.2033\u001b[0m       \u001b[32m0.5802\u001b[0m        \u001b[35m1.2074\u001b[0m  3005.5707\n",
      "     11        \u001b[36m1.1782\u001b[0m       \u001b[32m0.5881\u001b[0m        \u001b[35m1.1854\u001b[0m  3138.7492\n",
      "     12        \u001b[36m1.1547\u001b[0m       \u001b[32m0.5942\u001b[0m        \u001b[35m1.1648\u001b[0m  2517.8228\n",
      "     13        \u001b[36m1.1324\u001b[0m       \u001b[32m0.6005\u001b[0m        \u001b[35m1.1459\u001b[0m  1770.9409\n",
      "     14        \u001b[36m1.1113\u001b[0m       \u001b[32m0.6077\u001b[0m        \u001b[35m1.1280\u001b[0m  1777.9515\n",
      "     15        \u001b[36m1.0913\u001b[0m       \u001b[32m0.6124\u001b[0m        \u001b[35m1.1113\u001b[0m  1827.6349\n",
      "     16        \u001b[36m1.0723\u001b[0m       \u001b[32m0.6176\u001b[0m        \u001b[35m1.0952\u001b[0m  1772.7285\n",
      "     17        \u001b[36m1.0541\u001b[0m       \u001b[32m0.6233\u001b[0m        \u001b[35m1.0803\u001b[0m  1825.2955\n",
      "     18        \u001b[36m1.0368\u001b[0m       \u001b[32m0.6281\u001b[0m        \u001b[35m1.0660\u001b[0m  1796.1912\n",
      "     19        \u001b[36m1.0201\u001b[0m       \u001b[32m0.6321\u001b[0m        \u001b[35m1.0526\u001b[0m  1692.3421\n",
      "     20        \u001b[36m1.0042\u001b[0m       \u001b[32m0.6363\u001b[0m        \u001b[35m1.0400\u001b[0m  1692.9635\n",
      "     21        \u001b[36m0.9889\u001b[0m       \u001b[32m0.6421\u001b[0m        \u001b[35m1.0281\u001b[0m  1839.3732\n",
      "     22        \u001b[36m0.9742\u001b[0m       \u001b[32m0.6457\u001b[0m        \u001b[35m1.0168\u001b[0m  2211.6594\n",
      "     23        \u001b[36m0.9601\u001b[0m       \u001b[32m0.6494\u001b[0m        \u001b[35m1.0062\u001b[0m  1855.1671\n",
      "     24        \u001b[36m0.9465\u001b[0m       \u001b[32m0.6535\u001b[0m        \u001b[35m0.9959\u001b[0m  1824.7757\n",
      "     25        \u001b[36m0.9334\u001b[0m       \u001b[32m0.6573\u001b[0m        \u001b[35m0.9862\u001b[0m  1802.4270\n",
      "The channel was 16, the learning rate was 0.0001\n",
      "  epoch    train_loss    valid_acc    valid_loss        dur\n",
      "-------  ------------  -----------  ------------  ---------\n",
      "      1        \u001b[36m1.6355\u001b[0m       \u001b[32m0.5304\u001b[0m        \u001b[35m1.3180\u001b[0m  2770.2951\n",
      "      2        \u001b[36m1.2318\u001b[0m       \u001b[32m0.6103\u001b[0m        \u001b[35m1.1098\u001b[0m  2611.8159\n",
      "      3        \u001b[36m1.0593\u001b[0m       \u001b[32m0.6553\u001b[0m        \u001b[35m0.9850\u001b[0m  1812.2924\n",
      "      4        \u001b[36m0.9358\u001b[0m       \u001b[32m0.6780\u001b[0m        \u001b[35m0.9174\u001b[0m  1520.0275\n",
      "      5        \u001b[36m0.8430\u001b[0m       \u001b[32m0.6907\u001b[0m        \u001b[35m0.8806\u001b[0m  2006.2764\n",
      "      6        \u001b[36m0.7693\u001b[0m       \u001b[32m0.7014\u001b[0m        \u001b[35m0.8549\u001b[0m  1987.1612\n",
      "      7        \u001b[36m0.7071\u001b[0m       \u001b[32m0.7083\u001b[0m        \u001b[35m0.8357\u001b[0m  2720.4578\n",
      "      8        \u001b[36m0.6510\u001b[0m       \u001b[32m0.7160\u001b[0m        \u001b[35m0.8158\u001b[0m  2284.5833\n",
      "      9        \u001b[36m0.5984\u001b[0m       \u001b[32m0.7265\u001b[0m        \u001b[35m0.7918\u001b[0m  1764.6349\n",
      "     10        \u001b[36m0.5477\u001b[0m       \u001b[32m0.7343\u001b[0m        \u001b[35m0.7780\u001b[0m  1683.3413\n",
      "     11        \u001b[36m0.4995\u001b[0m       \u001b[32m0.7381\u001b[0m        \u001b[35m0.7768\u001b[0m  1904.5913\n",
      "     12        \u001b[36m0.4555\u001b[0m       \u001b[32m0.7387\u001b[0m        0.7776  1866.6369\n",
      "     13        \u001b[36m0.4127\u001b[0m       0.7384        0.7880  1862.4910\n",
      "     14        \u001b[36m0.3709\u001b[0m       0.7325        0.8154  1875.5805\n",
      "     15        \u001b[36m0.3301\u001b[0m       0.7300        0.8527  2020.2487\n",
      "Stopping since valid_loss has not improved in the last 5 epochs.\n",
      "The channel was 32, the learning rate was 0.0001\n",
      "  epoch    train_loss    valid_acc    valid_loss        dur\n",
      "-------  ------------  -----------  ------------  ---------\n",
      "      1        \u001b[36m1.6505\u001b[0m       \u001b[32m0.5274\u001b[0m        \u001b[35m1.3286\u001b[0m  2016.2083\n",
      "      2        \u001b[36m1.2360\u001b[0m       \u001b[32m0.6101\u001b[0m        \u001b[35m1.1119\u001b[0m  2046.6934\n",
      "      3        \u001b[36m1.0577\u001b[0m       \u001b[32m0.6581\u001b[0m        \u001b[35m0.9798\u001b[0m  2024.6255\n",
      "      4        \u001b[36m0.9334\u001b[0m       \u001b[32m0.6789\u001b[0m        \u001b[35m0.9123\u001b[0m  2022.7825\n",
      "      5        \u001b[36m0.8398\u001b[0m       \u001b[32m0.6931\u001b[0m        \u001b[35m0.8746\u001b[0m  2029.5375\n",
      "      6        \u001b[36m0.7639\u001b[0m       \u001b[32m0.7020\u001b[0m        \u001b[35m0.8480\u001b[0m  2022.9922\n",
      "      7        \u001b[36m0.6994\u001b[0m       \u001b[32m0.7123\u001b[0m        \u001b[35m0.8289\u001b[0m  1999.5237\n",
      "      8        \u001b[36m0.6407\u001b[0m       \u001b[32m0.7202\u001b[0m        \u001b[35m0.8144\u001b[0m  1841.0888\n",
      "      9        \u001b[36m0.5853\u001b[0m       \u001b[32m0.7250\u001b[0m        \u001b[35m0.8062\u001b[0m  1830.9262\n",
      "     10        \u001b[36m0.5335\u001b[0m       \u001b[32m0.7293\u001b[0m        \u001b[35m0.8037\u001b[0m  1830.7831\n",
      "     11        \u001b[36m0.4839\u001b[0m       \u001b[32m0.7342\u001b[0m        0.8082  1844.9272\n",
      "     12        \u001b[36m0.4376\u001b[0m       \u001b[32m0.7346\u001b[0m        0.8202  1890.5180\n",
      "     13        \u001b[36m0.3938\u001b[0m       \u001b[32m0.7356\u001b[0m        0.8305  1852.2313\n",
      "     14        \u001b[36m0.3516\u001b[0m       \u001b[32m0.7374\u001b[0m        0.8523  1855.6431\n",
      "Stopping since valid_loss has not improved in the last 5 epochs.\n",
      "The channel was 64, the learning rate was 0.0001\n",
      "  epoch    train_loss    valid_acc    valid_loss        dur\n",
      "-------  ------------  -----------  ------------  ---------\n",
      "      1        \u001b[36m1.6386\u001b[0m       \u001b[32m0.5373\u001b[0m        \u001b[35m1.3020\u001b[0m  2788.4585\n",
      "      2        \u001b[36m1.2156\u001b[0m       \u001b[32m0.6161\u001b[0m        \u001b[35m1.0923\u001b[0m  1982.6056\n",
      "      3        \u001b[36m1.0390\u001b[0m       \u001b[32m0.6598\u001b[0m        \u001b[35m0.9749\u001b[0m  1952.9520\n",
      "      4        \u001b[36m0.9179\u001b[0m       \u001b[32m0.6826\u001b[0m        \u001b[35m0.9064\u001b[0m  1991.6278\n",
      "      5        \u001b[36m0.8271\u001b[0m       \u001b[32m0.6940\u001b[0m        \u001b[35m0.8686\u001b[0m  1930.3556\n",
      "      6        \u001b[36m0.7540\u001b[0m       \u001b[32m0.7066\u001b[0m        \u001b[35m0.8407\u001b[0m  2052.6165\n",
      "      7        \u001b[36m0.6913\u001b[0m       \u001b[32m0.7151\u001b[0m        \u001b[35m0.8192\u001b[0m  1921.7194\n",
      "      8        \u001b[36m0.6339\u001b[0m       \u001b[32m0.7215\u001b[0m        \u001b[35m0.8040\u001b[0m  1912.6408\n",
      "      9        \u001b[36m0.5806\u001b[0m       \u001b[32m0.7259\u001b[0m        \u001b[35m0.7941\u001b[0m  1920.7272\n",
      "     10        \u001b[36m0.5306\u001b[0m       \u001b[32m0.7316\u001b[0m        \u001b[35m0.7892\u001b[0m  1884.8599\n",
      "     11        \u001b[36m0.4836\u001b[0m       \u001b[32m0.7348\u001b[0m        0.7915  2832.6945\n",
      "     12        \u001b[36m0.4400\u001b[0m       \u001b[32m0.7368\u001b[0m        0.7914  2918.9338\n",
      "     13        \u001b[36m0.3984\u001b[0m       \u001b[32m0.7416\u001b[0m        0.7927  2502.4152\n",
      "     14        \u001b[36m0.3583\u001b[0m       0.7412        0.8081  2751.9188\n",
      "Stopping since valid_loss has not improved in the last 5 epochs.\n",
      "The channel was 16, the learning rate was 0.001\n",
      "  epoch    train_loss    valid_acc    valid_loss        dur\n",
      "-------  ------------  -----------  ------------  ---------\n",
      "      1        \u001b[36m1.5403\u001b[0m       \u001b[32m0.5760\u001b[0m        \u001b[35m1.1992\u001b[0m  2208.2255\n",
      "      2        \u001b[36m1.1425\u001b[0m       \u001b[32m0.6306\u001b[0m        \u001b[35m1.0490\u001b[0m  1908.7850\n",
      "      3        \u001b[36m0.9650\u001b[0m       \u001b[32m0.6673\u001b[0m        \u001b[35m0.9531\u001b[0m  2381.4564\n",
      "      4        \u001b[36m0.8508\u001b[0m       \u001b[32m0.6886\u001b[0m        \u001b[35m0.9051\u001b[0m  2243.9538\n",
      "      5        \u001b[36m0.7680\u001b[0m       0.6850        0.9369  3039.4427\n",
      "      6        \u001b[36m0.6954\u001b[0m       0.6813        0.9643  2009.9776\n",
      "      7        \u001b[36m0.6422\u001b[0m       0.6800        0.9796  1852.9855\n",
      "      8        \u001b[36m0.5855\u001b[0m       0.6866        0.9889  1923.2216\n",
      "Stopping since valid_loss has not improved in the last 5 epochs.\n",
      "The channel was 32, the learning rate was 0.001\n",
      "  epoch    train_loss    valid_acc    valid_loss        dur\n",
      "-------  ------------  -----------  ------------  ---------\n",
      "      1        \u001b[36m1.5969\u001b[0m       \u001b[32m0.5568\u001b[0m        \u001b[35m1.2330\u001b[0m  1852.2973\n",
      "      2        \u001b[36m1.1545\u001b[0m       \u001b[32m0.6319\u001b[0m        \u001b[35m1.0502\u001b[0m  1919.2373\n",
      "      3        \u001b[36m0.9796\u001b[0m       \u001b[32m0.6580\u001b[0m        \u001b[35m0.9890\u001b[0m  1955.3820\n",
      "      4        \u001b[36m0.8679\u001b[0m       \u001b[32m0.6725\u001b[0m        \u001b[35m0.9481\u001b[0m  2065.3813\n",
      "      5        \u001b[36m0.7888\u001b[0m       \u001b[32m0.6797\u001b[0m        \u001b[35m0.9225\u001b[0m  2047.5048\n",
      "      6        \u001b[36m0.7265\u001b[0m       \u001b[32m0.6810\u001b[0m        0.9570  2038.7800\n",
      "      7        \u001b[36m0.6762\u001b[0m       0.6782        0.9940  2038.7441\n",
      "      8        \u001b[36m0.6333\u001b[0m       0.6657        1.0982  2026.2662\n",
      "      9        \u001b[36m0.5929\u001b[0m       0.6675        1.0986  2027.5202\n",
      "Stopping since valid_loss has not improved in the last 5 epochs.\n",
      "The channel was 64, the learning rate was 0.001\n",
      "  epoch    train_loss    valid_acc    valid_loss        dur\n",
      "-------  ------------  -----------  ------------  ---------\n",
      "      1        \u001b[36m1.6344\u001b[0m       \u001b[32m0.5295\u001b[0m        \u001b[35m1.3157\u001b[0m  1943.4180\n",
      "      2        \u001b[36m1.2120\u001b[0m       \u001b[32m0.6068\u001b[0m        \u001b[35m1.1103\u001b[0m  1900.2877\n",
      "      3        \u001b[36m1.0708\u001b[0m       \u001b[32m0.6285\u001b[0m        \u001b[35m1.0560\u001b[0m  1920.2538\n",
      "      4        \u001b[36m0.9739\u001b[0m       \u001b[32m0.6414\u001b[0m        \u001b[35m1.0254\u001b[0m  2047.0268\n",
      "      5        \u001b[36m0.8986\u001b[0m       \u001b[32m0.6423\u001b[0m        1.0417  2594.3312\n",
      "      6        \u001b[36m0.8384\u001b[0m       0.6337        1.0671  2910.5896\n",
      "      7        \u001b[36m0.7984\u001b[0m       0.6396        1.0678  2163.7094\n",
      "      8        \u001b[36m0.7519\u001b[0m       0.6355        1.1093  1508.6315\n",
      "Stopping since valid_loss has not improved in the last 5 epochs.\n",
      "The channel was 16, the learning rate was 0.01\n",
      "  epoch    train_loss    valid_acc    valid_loss        dur\n",
      "-------  ------------  -----------  ------------  ---------\n",
      "      1        \u001b[36m5.3360\u001b[0m       \u001b[32m0.1000\u001b[0m        \u001b[35m2.3033\u001b[0m  1572.3764\n",
      "      2        \u001b[36m2.3038\u001b[0m       0.1000        2.3034  1639.0350\n",
      "      3        2.3038       0.1000        2.3035  1821.6766\n",
      "      4        2.3039       0.1000        2.3035  1756.7726\n",
      "      5        2.3039       0.1000        2.3035  1845.7966\n",
      "Stopping since valid_loss has not improved in the last 5 epochs.\n",
      "The channel was 32, the learning rate was 0.01\n",
      "  epoch    train_loss    valid_acc    valid_loss        dur\n",
      "-------  ------------  -----------  ------------  ---------\n",
      "      1        \u001b[36m4.6576\u001b[0m       \u001b[32m0.4688\u001b[0m        \u001b[35m1.4754\u001b[0m  1711.5144\n",
      "      2        \u001b[36m1.4273\u001b[0m       \u001b[32m0.5073\u001b[0m        \u001b[35m1.3865\u001b[0m  1621.4952\n",
      "      3        \u001b[36m1.3586\u001b[0m       \u001b[32m0.5256\u001b[0m        \u001b[35m1.3293\u001b[0m  1622.3163\n"
     ]
    }
   ],
   "source": [
    "# implement hyperparameters, you can select and modify the hyperparameters by yourself here.\n",
    "learning_rate = [1e-5, 1e-4, 1e-3, 1e-2]\n",
    "channel = [16,32,64]\n",
    "# Select the better optimizer by the result shown in the previous problem, you can select and modify it by yourself here.\n",
    "better_optimizer = torch.optim.Adam  \n",
    "\n",
    "train_data_normalized = torch.Tensor(train.data/255)\n",
    "train_data_normalized = train_data_normalized.permute(0,3,1,2)\n",
    "\n",
    "for l in learning_rate:\n",
    "    for c in channel:\n",
    "      print(f'The channel was {c}, the learning rate was {l}')\n",
    "\n",
    "      cnn = CNN_MaxPool(channels = c)\n",
    "      \n",
    "      model = skorch.NeuralNetClassifier(cnn, criterion=torch.nn.CrossEntropyLoss,\n",
    "                                   device=\"cpu\",\n",
    "                                   optimizer=better_optimizer,\n",
    "                                   lr=l,\n",
    "                                   max_epochs=25,\n",
    "                                   batch_size=64,\n",
    "                                   callbacks=[skorch.callbacks.EarlyStopping(lower_is_better=True)])\n",
    "      # implement input normalization & type cast here \n",
    "      model.fit(train_data_normalized, np.asarray(train.targets))"
   ]
  },
  {
   "cell_type": "markdown",
   "metadata": {
    "colab_type": "text",
    "id": "H7Mu2ZZHoZU0"
   },
   "source": [
    "Write down the **validation accuracy** of the model under different hyperparameter settings.\n",
    "\n",
    "| #channel for each layer | validation accuracy |\n",
    "|-------------------------|---------------------|\n",
    "|        (16,16,16)       |        75.20        |\n",
    "|        (32,32,32)       |        75.13        |\n",
    "|        (64,64,64)       |        79.72        |"
   ]
  },
  {
   "cell_type": "markdown",
   "metadata": {
    "colab_type": "text",
    "id": "8UCaz8nWoWWS"
   },
   "source": [
    "For the best model you have, test it on the test set."
   ]
  },
  {
   "cell_type": "code",
   "execution_count": null,
   "metadata": {
    "colab": {
     "base_uri": "https://localhost:8080/",
     "height": 35
    },
    "colab_type": "code",
    "id": "bTtBk22OECDD",
    "outputId": "40229a37-f53c-4837-de75-8a63b3f66889"
   },
   "outputs": [],
   "source": [
    "# implement the same input normalization & type cast here\n",
    "test_data_normalized = torch.Tensor(test.data/255) \n",
    "test_data_normalized = test_data_normalized.permute(0,3,1,2)\n",
    "test.predictions = model.predict(test_data_normalized)\n",
    "sklearn.metrics.accuracy_score(test.targets, test.predictions)"
   ]
  },
  {
   "attachments": {},
   "cell_type": "markdown",
   "metadata": {
    "colab_type": "text",
    "id": "kSbhC8f1or6_"
   },
   "source": [
    "How much **test accuracy** do you get? What can you conclude for the design of CNN structure and tuning of hyperparameters? (5 points)\n",
    "\n",
    "**Your Answer:* I get 70.5% test accuracy. The number of channels and learning rate are the most important hyperparameters. They should not be too large or too small. Adam optimizer is better than SGD optimizer because it can converge faster. The structure of CNN is also important. The max pooling layer can improve the performance of CNN. The kernel size and stride of max pooling layer should be appropriate.* **"
   ]
  }
 ],
 "metadata": {
  "accelerator": "GPU",
  "colab": {
   "collapsed_sections": [],
   "include_colab_link": true,
   "machine_shape": "hm",
   "name": "Adrien Hernandez Homework 1 - PyTorch",
   "provenance": []
  },
  "kernelspec": {
   "display_name": "Python 3 (ipykernel)",
   "language": "python",
   "name": "python3"
  },
  "language_info": {
   "codemirror_mode": {
    "name": "ipython",
    "version": 3
   },
   "file_extension": ".py",
   "mimetype": "text/x-python",
   "name": "python",
   "nbconvert_exporter": "python",
   "pygments_lexer": "ipython3",
   "version": "3.10.6"
  },
  "widgets": {
   "application/vnd.jupyter.widget-state+json": {
    "0f3b4a3b037d47cb8ba1196d7dbd3b98": {
     "model_module": "@jupyter-widgets/controls",
     "model_name": "ProgressStyleModel",
     "state": {
      "_model_module": "@jupyter-widgets/controls",
      "_model_module_version": "1.5.0",
      "_model_name": "ProgressStyleModel",
      "_view_count": null,
      "_view_module": "@jupyter-widgets/base",
      "_view_module_version": "1.2.0",
      "_view_name": "StyleView",
      "bar_color": null,
      "description_width": ""
     }
    },
    "310efd92386a4757a767d5204b08a865": {
     "model_module": "@jupyter-widgets/controls",
     "model_name": "HBoxModel",
     "state": {
      "_dom_classes": [],
      "_model_module": "@jupyter-widgets/controls",
      "_model_module_version": "1.5.0",
      "_model_name": "HBoxModel",
      "_view_count": null,
      "_view_module": "@jupyter-widgets/controls",
      "_view_module_version": "1.5.0",
      "_view_name": "HBoxView",
      "box_style": "",
      "children": [
       "IPY_MODEL_87cad6ba7ef84d03a7f8c0cb37ec01ec",
       "IPY_MODEL_b712d5d1ba464a378c00dbb2aec6dd8c"
      ],
      "layout": "IPY_MODEL_8346dadd8dcd437f9d0c73a8e86d4503"
     }
    },
    "3f3ef2c146bf4dd38424170b3090b055": {
     "model_module": "@jupyter-widgets/base",
     "model_name": "LayoutModel",
     "state": {
      "_model_module": "@jupyter-widgets/base",
      "_model_module_version": "1.2.0",
      "_model_name": "LayoutModel",
      "_view_count": null,
      "_view_module": "@jupyter-widgets/base",
      "_view_module_version": "1.2.0",
      "_view_name": "LayoutView",
      "align_content": null,
      "align_items": null,
      "align_self": null,
      "border": null,
      "bottom": null,
      "display": null,
      "flex": null,
      "flex_flow": null,
      "grid_area": null,
      "grid_auto_columns": null,
      "grid_auto_flow": null,
      "grid_auto_rows": null,
      "grid_column": null,
      "grid_gap": null,
      "grid_row": null,
      "grid_template_areas": null,
      "grid_template_columns": null,
      "grid_template_rows": null,
      "height": null,
      "justify_content": null,
      "justify_items": null,
      "left": null,
      "margin": null,
      "max_height": null,
      "max_width": null,
      "min_height": null,
      "min_width": null,
      "object_fit": null,
      "object_position": null,
      "order": null,
      "overflow": null,
      "overflow_x": null,
      "overflow_y": null,
      "padding": null,
      "right": null,
      "top": null,
      "visibility": null,
      "width": null
     }
    },
    "44a89539615b4132a01ca7f5223ca281": {
     "model_module": "@jupyter-widgets/base",
     "model_name": "LayoutModel",
     "state": {
      "_model_module": "@jupyter-widgets/base",
      "_model_module_version": "1.2.0",
      "_model_name": "LayoutModel",
      "_view_count": null,
      "_view_module": "@jupyter-widgets/base",
      "_view_module_version": "1.2.0",
      "_view_name": "LayoutView",
      "align_content": null,
      "align_items": null,
      "align_self": null,
      "border": null,
      "bottom": null,
      "display": null,
      "flex": null,
      "flex_flow": null,
      "grid_area": null,
      "grid_auto_columns": null,
      "grid_auto_flow": null,
      "grid_auto_rows": null,
      "grid_column": null,
      "grid_gap": null,
      "grid_row": null,
      "grid_template_areas": null,
      "grid_template_columns": null,
      "grid_template_rows": null,
      "height": null,
      "justify_content": null,
      "justify_items": null,
      "left": null,
      "margin": null,
      "max_height": null,
      "max_width": null,
      "min_height": null,
      "min_width": null,
      "object_fit": null,
      "object_position": null,
      "order": null,
      "overflow": null,
      "overflow_x": null,
      "overflow_y": null,
      "padding": null,
      "right": null,
      "top": null,
      "visibility": null,
      "width": null
     }
    },
    "8346dadd8dcd437f9d0c73a8e86d4503": {
     "model_module": "@jupyter-widgets/base",
     "model_name": "LayoutModel",
     "state": {
      "_model_module": "@jupyter-widgets/base",
      "_model_module_version": "1.2.0",
      "_model_name": "LayoutModel",
      "_view_count": null,
      "_view_module": "@jupyter-widgets/base",
      "_view_module_version": "1.2.0",
      "_view_name": "LayoutView",
      "align_content": null,
      "align_items": null,
      "align_self": null,
      "border": null,
      "bottom": null,
      "display": null,
      "flex": null,
      "flex_flow": null,
      "grid_area": null,
      "grid_auto_columns": null,
      "grid_auto_flow": null,
      "grid_auto_rows": null,
      "grid_column": null,
      "grid_gap": null,
      "grid_row": null,
      "grid_template_areas": null,
      "grid_template_columns": null,
      "grid_template_rows": null,
      "height": null,
      "justify_content": null,
      "justify_items": null,
      "left": null,
      "margin": null,
      "max_height": null,
      "max_width": null,
      "min_height": null,
      "min_width": null,
      "object_fit": null,
      "object_position": null,
      "order": null,
      "overflow": null,
      "overflow_x": null,
      "overflow_y": null,
      "padding": null,
      "right": null,
      "top": null,
      "visibility": null,
      "width": null
     }
    },
    "87cad6ba7ef84d03a7f8c0cb37ec01ec": {
     "model_module": "@jupyter-widgets/controls",
     "model_name": "IntProgressModel",
     "state": {
      "_dom_classes": [],
      "_model_module": "@jupyter-widgets/controls",
      "_model_module_version": "1.5.0",
      "_model_name": "IntProgressModel",
      "_view_count": null,
      "_view_module": "@jupyter-widgets/controls",
      "_view_module_version": "1.5.0",
      "_view_name": "ProgressView",
      "bar_style": "success",
      "description": "",
      "description_tooltip": null,
      "layout": "IPY_MODEL_3f3ef2c146bf4dd38424170b3090b055",
      "max": 1,
      "min": 0,
      "orientation": "horizontal",
      "style": "IPY_MODEL_0f3b4a3b037d47cb8ba1196d7dbd3b98",
      "value": 1
     }
    },
    "adbb9a799ba44a91b927b44d0c27e6d1": {
     "model_module": "@jupyter-widgets/controls",
     "model_name": "DescriptionStyleModel",
     "state": {
      "_model_module": "@jupyter-widgets/controls",
      "_model_module_version": "1.5.0",
      "_model_name": "DescriptionStyleModel",
      "_view_count": null,
      "_view_module": "@jupyter-widgets/base",
      "_view_module_version": "1.2.0",
      "_view_name": "StyleView",
      "description_width": ""
     }
    },
    "b712d5d1ba464a378c00dbb2aec6dd8c": {
     "model_module": "@jupyter-widgets/controls",
     "model_name": "HTMLModel",
     "state": {
      "_dom_classes": [],
      "_model_module": "@jupyter-widgets/controls",
      "_model_module_version": "1.5.0",
      "_model_name": "HTMLModel",
      "_view_count": null,
      "_view_module": "@jupyter-widgets/controls",
      "_view_module_version": "1.5.0",
      "_view_name": "HTMLView",
      "description": "",
      "description_tooltip": null,
      "layout": "IPY_MODEL_44a89539615b4132a01ca7f5223ca281",
      "placeholder": "​",
      "style": "IPY_MODEL_adbb9a799ba44a91b927b44d0c27e6d1",
      "value": "170500096it [00:04, 37859309.77it/s]"
     }
    }
   }
  }
 },
 "nbformat": 4,
 "nbformat_minor": 1
}
